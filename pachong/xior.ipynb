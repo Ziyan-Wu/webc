{
 "cells": [
  {
   "cell_type": "code",
   "execution_count": 152,
   "metadata": {
    "collapsed": true,
    "pycharm": {
     "name": "#%%\n"
    }
   },
   "outputs": [],
   "source": [
    "import requests\n",
    "from bs4 import BeautifulSoup\n",
    "from urllib.request import urlopen\n",
    "from lxml import etree\n",
    "import json\n",
    "import re\n",
    "import numpy as np\n",
    "import prettytable as pt\n",
    "import pandas as pd\n",
    "import time"
   ]
  },
  {
   "cell_type": "markdown",
   "source": [
    "'https://www.homelets.nl/en/property-to-rent/'\n",
    "'https://www.xior-booking.com/#'\n",
    "\n",
    "https://www.pythonscraping.com/pages/page1.html\n",
    "https://www.pythonscraping.com/pages/page1.html\n",
    "https://ssr1.scrape.center/page/4"
   ],
   "metadata": {
    "collapsed": false,
    "pycharm": {
     "name": "#%% md\n"
    }
   }
  },
  {
   "cell_type": "code",
   "execution_count": 91,
   "outputs": [],
   "source": [
    "url = 'https://www.xior-booking.com/#'\n",
    "xior = 'https://www.xior-booking.com/ajax/space-search'\n",
    "# 'https://www.xior-booking.com/ajax/space-search'\n",
    "holland2stay = 'https://holland2stay.com/residences.html?available_to_book=179'\n",
    "# 'https://holland2stay.com/residences/studio1-indefinite.html?available_to_book=179,336&city=25,90'\n",
    "\n",
    "header = {\n",
    "    'User-Agent': 'Mozilla/5.0 (X11; Linux x86_64) AppleWebKit/537.36 (KHTML, like Gecko) Chrome/48.0.2564.116 Safari/537.36',\n",
    "    #'cookie': 'ai_user=5YqS2gz3MaBT/lERkqpo0o|2022-06-26T15:26:26.666Z; _ga=GA1.2.2000435899.1656257187; _gcl_au=1.1.1020666982.1664034236; _gid=GA1.2.265423349.1664034237; __cf_bm=GA5S_sB0elMcNrpbsALXyt7WxomMn_W6VUjA4HCzub0-1664093813-0-AXqQvnwPewLxq64/dVy20XtMqYSJ0vPZp6EQSG5LRMFIkOqF6ccxReWpxwuObyuCi72FnSFgFyDLKWiRl9uPN6Gub0CCvsFZnTr3i1oycRY9ZpF+p4LE6vzR9cLmY8Miaw==; XSRF-TOKEN=eyJpdiI6IlVXUFU3THQ5N2VXd3J4NFUxQ2FBRnc9PSIsInZhbHVlIjoiU2w4MG1ONjVEL2FFVEJPb2FSVlpOdE5QRWlUeGovWGwvODd6QU9Md2RqN00vSi9rSFF6LzRVT1RQc2xvTTN1V0NVdXdOQllubkdqZ2c1OEhRN1hqOStmVEoyT0owalFCRGkzMjFqUTBENWNJd09Ya1dMMVBiamRrS1FvR0ZWVVciLCJtYWMiOiI2NTUzMzAwOTc3ZjZiODc0ODk5NTUzYWYyZWJmMTI2OWE3ZGI3MDY5ODVjYjBkNzRhOTU3NjNkNTIwMGJmNTI5In0=; laravel_session=eyJpdiI6Im9wM2t1Q0luRnFqVEhKZDBZZkhIMmc9PSIsInZhbHVlIjoiUlBOVmZZbnZ4aUpBcXFiYWdqL0lYYjlrVTh1QjR2SWtkY2w2TW5XY0RWeStpVm5RSXd4VmRMK3hHVldTNzV0ZTZEbjZNMm5TL1ZHdkRFMk9vb2VDQzJmd05SaU43Nk1lK3loWnJqRzRuOG5zQWp4M0QzbGVIeXJBeG41aE9xTkciLCJtYWMiOiIxY2QwOGMwMDMzNmIwOGFjMzRkNGU4YzEwZDdmNWE3Y2NkNGE1YzljMDc3ZWY2YzFhODJhN2M1MmRlNmZiMjk2In0=; _gat_gtag_UA_145833656_1=1; _gat_UA-145833656-1=1',\n",
    "    #'x-csrf-token': '2e56v7Xq4YHpyy48ZQ2KQ63w1d95HZiNDAQauD35'\n",
    "}\n"
   ],
   "metadata": {
    "collapsed": false,
    "pycharm": {
     "name": "#%%\n"
    }
   }
  },
  {
   "cell_type": "code",
   "execution_count": 55,
   "outputs": [],
   "source": [
    "xior_data = {\n",
    "    \"country\": \"\",\n",
    "    \"city\": \"\",\n",
    "    \"location\": \"\",\n",
    "    \"space_type\": \"\",\n",
    "    \"min_price\": \"0\",\n",
    "    \"max_price\": \"1838\",\n",
    "    \"min_surface\": \"10\",\n",
    "    \"max_surface\": \"116\",\n",
    "    \"order\": \"\",\n",
    "    \"unlock_key\": \"\",\n",
    "    \"page\": \"1\",\n",
    "    \"pagination\": \"false\"\n",
    "}"
   ],
   "metadata": {
    "collapsed": false,
    "pycharm": {
     "name": "#%%\n"
    }
   }
  },
  {
   "cell_type": "code",
   "execution_count": 43,
   "outputs": [
    {
     "data": {
      "text/plain": "'{\"country\": \"\", \"city\": \"\", \"location\": \"\", \"space_type\": \"\", \"min_price\": 0, \"max_price\": 1838, \"min_surface\": 10, \"max_surface\": 116, \"order\": \"\", \"unlock_key\": \"\", \"page\": 1, \"pagination\": \"false\"}'"
     },
     "execution_count": 43,
     "metadata": {},
     "output_type": "execute_result"
    }
   ],
   "source": [
    "json.dumps(xior_data)"
   ],
   "metadata": {
    "collapsed": false,
    "pycharm": {
     "name": "#%%\n"
    }
   }
  },
  {
   "cell_type": "code",
   "execution_count": 92,
   "outputs": [
    {
     "name": "stdout",
     "output_type": "stream",
     "text": [
      "200\n"
     ]
    }
   ],
   "source": [
    "response = requests.get(holland2stay, headers=header)\n",
    "# response = requests.post(xior, data=xior_data, headers=header)\n",
    "print(response.status_code)"
   ],
   "metadata": {
    "collapsed": false,
    "pycharm": {
     "name": "#%%\n"
    }
   }
  },
  {
   "cell_type": "code",
   "execution_count": 23,
   "outputs": [],
   "source": [
    "# response.json()"
   ],
   "metadata": {
    "collapsed": false,
    "pycharm": {
     "name": "#%%\n"
    }
   }
  },
  {
   "cell_type": "code",
   "execution_count": 8,
   "outputs": [
    {
     "data": {
      "text/plain": "'<!doctype html>\\n<html lang=\"en\">\\n    <head >\\n        <script>\\n    var BASE_URL = \\'https\\\\u003A\\\\u002F\\\\u002Fholland2stay.com\\\\u002F\\';\\n    var require = {\\n        \\'baseUrl\\': \\'https\\\\u003A\\\\u002F\\\\u002Fholland2stay.com\\\\u002Fstatic\\\\u002Fversion1662101656\\\\u002Ffrontend\\\\u002FHolland\\\\u002Fnewtheme\\\\u002Fen_US\\'\\n    };</script>        <meta charset=\"utf-8\"/>\\n<meta name=\"title\" content=\"Our residences | Holland2Stay\"/>\\n<meta name=\"robots\" content=\"INDEX,FOLLOW\"/>\\n<meta name=\"viewport\" content=\"width=device-width, initial-scale=1, maximum-scale=1.0, user-scalable=no\"/>\\n<meta name=\"format-detection\" content=\"telephone=no\"/>\\n<meta name=\"\" content=\"IE=edge\"/>\\n<title>Our residences | Holland2Stay</title>\\n<link  rel=\"stylesheet\" type=\"text/css\"  media=\"all\" href=\"https://holland2stay.com/static/version1662101656/frontend/Holland/newtheme/en_US/mage/calendar.css\" />\\n<link  rel=\"stylesheet\" type=\"text/css\"  media=\"all\" href=\"https://holland2stay.com/static/version1662101656/frontend/Holland/newtheme/en_US/css/styles-m.css\" />\\n<link  rel=\"stylesheet\" type=\"text/css\"  media=\"all\" href=\"https://holland2stay.com/static/version1662101656/frontend/Holland/newtheme/en_US/css/owl.carousel.min.css\" />\\n<link  rel=\"stylesheet\" type=\"text/css\"  media=\"all\" href=\"https://holland2stay.com/static/version1662101656/frontend/Holland/newtheme/en_US/Amasty_Customform/css/amcustomform.css\" />\\n<link  rel=\"stylesheet\" type=\"text/css\"  media=\"all\" href=\"https://holland2stay.com/static/version1662101656/frontend/Holland/newtheme/en_US/Amasty_Customform/css/form-builder.css\" />\\n<link  rel=\"stylesheet\" type=\"text/css\"  media=\"all\" href=\"https://holland2stay.com/static/version1662101656/frontend/Holland/newtheme/en_US/Amasty_Customform/css/form-render.css\" />\\n<link  rel=\"stylesheet\" type=\"text/css\"  media=\"all\" href=\"https://holland2stay.com/static/version1662101656/frontend/Holland/newtheme/en_US/Webkul_ImageGallery/css/fancybox.css\" />\\n<link  rel=\"stylesheet\" type=\"text/css\"  media=\"all\" href=\"https://holland2stay.com/static/version1662101656/frontend/Holland/newtheme/en_US/Webkul_ImageGallery/css/jquery.fancybox.css\" />\\n<link  rel=\"stylesheet\" type=\"text/css\"  media=\"all\" href=\"https://holland2stay.com/static/version1662101656/frontend/Holland/newtheme/en_US/Webkul_ImageGallery/css/jquery.fancybox-thumbs.css\" />\\n<link  rel=\"stylesheet\" type=\"text/css\"  media=\"all\" href=\"https://holland2stay.com/static/version1662101656/frontend/Holland/newtheme/en_US/Webkul_ImageGallery/css/jquery.fancybox-buttons.css\" />\\n<link  rel=\"stylesheet\" type=\"text/css\"  media=\"all\" href=\"https://holland2stay.com/static/version1662101656/frontend/Holland/newtheme/en_US/Webkul_ImageGallery/css/styles.css\" />\\n<link  rel=\"stylesheet\" type=\"text/css\"  media=\"all\" href=\"https://holland2stay.com/static/version1662101656/frontend/Holland/newtheme/en_US/Mageplaza_Core/css/owl.carousel.css\" />\\n<link  rel=\"stylesheet\" type=\"text/css\"  media=\"all\" href=\"https://holland2stay.com/static/version1662101656/frontend/Holland/newtheme/en_US/Mageplaza_Core/css/owl.theme.css\" />\\n<link  rel=\"stylesheet\" type=\"text/css\"  media=\"all\" href=\"https://holland2stay.com/static/version1662101656/frontend/Holland/newtheme/en_US/Mageplaza_LayeredNavigationPro/css/chosen.min.css\" />\\n<link  rel=\"stylesheet\" type=\"text/css\"  media=\"screen and (min-width: 768px)\" href=\"https://holland2stay.com/static/version1662101656/frontend/Holland/newtheme/en_US/css/styles-l.css\" />\\n<link  rel=\"stylesheet\" type=\"text/css\"  media=\"print\" href=\"https://holland2stay.com/static/version1662101656/frontend/Holland/newtheme/en_US/css/print.css\" />\\n<link  rel=\"stylesheet\" type=\"text/css\"  media=\"all\" href=\"https://holland2stay.com/static/version1662101656/frontend/Holland/newtheme/en_US/css/bootstrap/bootstrap.min.css\" />\\n<link  rel=\"stylesheet\" type=\"text/css\"  media=\"all\" href=\"https://holland2stay.com/static/version1662101656/frontend/Holland/newtheme/en_US/css/style.css\" />\\n<link  rel=\"stylesheet\" type=\"text/css\"  media=\"all\" href=\"https://maxcdn.bootstrapcdn.com/font-awesome/4.4.0/css/font-awesome.min.css\" />\\n<script  type=\"text/javascript\"  src=\"https://holland2stay.com/static/version1662101656/frontend/Holland/newtheme/en_US/requirejs/require.js\"></script>\\n<script  type=\"text/javascript\"  src=\"https://holland2stay.com/static/version1662101656/frontend/Holland/newtheme/en_US/mage/requirejs/mixins.js\"></script>\\n<script  type=\"text/javascript\"  src=\"https://holland2stay.com/static/version1662101656/frontend/Holland/newtheme/en_US/requirejs-config.js\"></script>\\n<script  type=\"text/javascript\"  async=\"async\" src=\"https://widget.trustpilot.com/bootstrap/v5/tp.widget.bootstrap.min.js\"></script>\\n<link rel=\"preload\" as=\"font\" crossorigin=\"anonymous\" href=\"https://holland2stay.com/static/version1662101656/frontend/Holland/newtheme/en_US/fonts/opensans/light/opensans-300.woff2\" />\\n<link rel=\"preload\" as=\"font\" crossorigin=\"anonymous\" href=\"https://holland2stay.com/static/version1662101656/frontend/Holland/newtheme/en_US/fonts/opensans/regular/opensans-400.woff2\" />\\n<link rel=\"preload\" as=\"font\" crossorigin=\"anonymous\" href=\"https://holland2stay.com/static/version1662101656/frontend/Holland/newtheme/en_US/fonts/opensans/semibold/opensans-600.woff2\" />\\n<link rel=\"preload\" as=\"font\" crossorigin=\"anonymous\" href=\"https://holland2stay.com/static/version1662101656/frontend/Holland/newtheme/en_US/fonts/opensans/bold/opensans-700.woff2\" />\\n<link rel=\"preload\" as=\"font\" crossorigin=\"anonymous\" href=\"https://holland2stay.com/static/version1662101656/frontend/Holland/newtheme/en_US/fonts/Luma-Icons.woff2\" />\\n<link  rel=\"icon\" type=\"image/x-icon\" href=\"https://holland2stay.com/media/favicon/stores/2/favicon.png\" />\\n<link  rel=\"shortcut icon\" type=\"image/x-icon\" href=\"https://holland2stay.com/media/favicon/stores/2/favicon.png\" />\\n        <script src=\"https://www.googleoptimize.com/optimize.js?id=OPT-T6X95B7\"></script><!-- BEGIN GOOGLE ANALYTICS CODE -->\\n<script type=\"text/x-magento-init\">\\n{\\n    \"*\": {\\n        \"Magento_GoogleAnalytics/js/google-analytics\": {\\n            \"isCookieRestrictionModeEnabled\": 1,\\n            \"currentWebsite\": 1,\\n            \"cookieName\": \"user_allowed_save_cookie\",\\n            \"ordersTrackingData\": [],\\n            \"pageTrackingData\": {\"optPageUrl\":\"\",\"isAnonymizedIpActive\":false,\"accountId\":\"UA-109412210-1\"}        }\\n    }\\n}\\n</script>\\n<!-- END GOOGLE ANALYTICS CODE -->\\n    <script type=\"text/x-magento-init\">\\n        {\\n            \"*\": {\\n                \"Magento_PageCache/js/form-key-provider\": {}\\n            }\\n        }\\n    </script>\\n<link rel=\"stylesheet\" type=\"text/css\" media=\"all\" href=\"https://maxcdn.bootstrapcdn.com/font-awesome/latest/css/font-awesome.min.css\">\\n\\n\\n<!-- Google Tag Manager -->\\n<script>(function(w,d,s,l,i){w[l]=w[l]||[];w[l].push({\\'gtm.start\\':\\nnew Date().getTime(),event:\\'gtm.js\\'});var f=d.getElementsByTagName(s)[0],\\nj=d.createElement(s),dl=l!=\\'dataLayer\\'?\\'&l=\\'+l:\\'\\';j.async=true;j.src=\\n\\'https://www.googletagmanager.com/gtm.js?id=\\'+i+dl;f.parentNode.insertBefore(j,f);\\n})(window,document,\\'script\\',\\'dataLayer\\',\\'GTM-N3GKD6S\\');</script>\\n<!-- End Google Tag Manager -->\\n\\n    </head>\\n    <body data-container=\"body\"\\n          data-mage-init=\\'{\"loaderAjax\": {}, \"loader\": { \"icon\": \"https://holland2stay.com/static/version1662101656/frontend/Holland/newtheme/en_US/images/loader-2.gif\"}}\\'\\n        id=\"html-body\" class=\"page-with-filter page-products categorypath-residences category-residences catalog-category-view page-layout-2columns-left\">\\n        <!-- Google Tag Manager (noscript) -->\\r\\n<noscript><iframe src=\"https://www.googletagmanager.com/ns.html?id=GTM-N3GKD6S\"\\r\\nheight=\"0\" width=\"0\" style=\"display:none;visibility:hidden\"></iframe></noscript>\\r\\n<!-- End Google Tag Manager (noscript) -->\\r\\n\\n\\n<div class=\"cookie-status-message\" id=\"cookie-status\">\\n    The store will not work correctly in the case when cookies are disabled.</div>\\n<script type=\"text&#x2F;javascript\">document.querySelector(\"#cookie-status\").style.display = \"none\";</script>\\n<script type=\"text/x-magento-init\">\\n    {\\n        \"*\": {\\n            \"cookieStatus\": {}\\n        }\\n    }\\n</script>\\n\\n<script type=\"text/x-magento-init\">\\n    {\\n        \"*\": {\\n            \"mage/cookies\": {\\n                \"expires\": null,\\n                \"path\": \"\\\\u002F\",\\n                \"domain\": \".holland2stay.com\",\\n                \"secure\": false,\\n                \"lifetime\": \"28800\"\\n            }\\n        }\\n    }\\n</script>\\n    <noscript>\\n        <div class=\"message global noscript\">\\n            <div class=\"content\">\\n                <p>\\n                    <strong>JavaScript seems to be disabled in your browser.</strong>\\n                    <span>\\n                        For the best experience on our site, be sure to turn on Javascript in your browser.                    </span>\\n                </p>\\n            </div>\\n        </div>\\n    </noscript>\\n    <div role=\"alertdialog\"\\n         tabindex=\"-1\"\\n         class=\"message global cookie\"\\n         id=\"notice-cookie-block\">\\n        <div role=\"document\" class=\"content\" tabindex=\"0\">\\n            <p>\\n                <strong>We use cookies to make your experience better.</strong>\\n                <span>To comply with the new e-Privacy directive, we need to ask for your consent to set the cookies.                </span>\\n                <a href=\"https://holland2stay.com/privacy-policy-cookie-restriction-mode/\">Learn more</a>.            </p>\\n            <div class=\"actions\">\\n                <button id=\"btn-cookie-allow\" class=\"action allow primary\">\\n                    <span>Allow Cookies</span>\\n                </button>\\n            </div>\\n        </div>\\n    </div>\\n    <script type=\"text&#x2F;javascript\">var elemGDKMGBaK = document.querySelector(\\'div#notice-cookie-block\\');\\nif (elemGDKMGBaK) {\\nelemGDKMGBaK.style.display = \\'none\\';\\n}</script>    <script type=\"text/x-magento-init\">\\n        {\\n            \"#notice-cookie-block\": {\\n                \"cookieNotices\": {\\n                    \"cookieAllowButtonSelector\": \"#btn-cookie-allow\",\\n                    \"cookieName\": \"user_allowed_save_cookie\",\\n                    \"cookieValue\": {\"1\":1},\\n                    \"cookieLifetime\": 31536000,\\n                    \"noCookiesUrl\": \"https\\\\u003A\\\\u002F\\\\u002Fholland2stay.com\\\\u002Fcookie\\\\u002Findex\\\\u002FnoCookies\\\\u002F\"\\n                }\\n            }\\n        }\\n    </script>\\n\\n<script>\\n    window.cookiesConfig = window.cookiesConfig || {};\\n    window.cookiesConfig.secure = false;\\n</script><script>    require.config({\\n        map: {\\n            \\'*\\': {\\n                wysiwygAdapter: \\'mage/adminhtml/wysiwyg/tiny_mce/tinymce5Adapter\\'\\n            }\\n        }\\n    });</script><div class=\"page-wrapper\"><header class=\"page-header\">\\n  <div class=\"container\">\\n    <nav class=\"navbar navbar-expand-xl  \">\\n          \\n\\n<a class=\"navbar-brand\" href=\"https://holland2stay.com/\" title=\"Holland2stay\">\\n        <img src=\"https://holland2stay.com/static/version1662101656/frontend/Holland/newtheme/en_US/images/logo.svg\"\\n             alt=\"Holland2stay\"\\n             height=\"150px\"\\n             width=\"210px\"\\n         />\\n    </a>\\n\\n\\n\\n           <button class=\"navbar-toggler\" type=\"button\" data-toggle=\"collapse\" data-target=\"#navbarSupportedContent\" aria-controls=\"navbarSupportedContent\" aria-expanded=\"false\" aria-label=\"Toggle navigation\">\\n          <img src=\"https://holland2stay.com/static/version1662101656/frontend/Holland/newtheme/en_US/images/bar.png\">\\n          </button>\\n\\n          <div class=\"collapse navbar-collapse\" id=\"navbarSupportedContent\">\\n          <ul class=\"navbar-nav mr-auto\">\\r\\n<li class=\"nav-item\"><a class=\"nav-link\" href=\"https://holland2stay.com/residences.html/\">Residences</a></li>\\r\\n<!--<li class=\"nav-item\"><a class=\"nav-link\" href=\"https://holland2stay.com/locations/\">Locations</a></li>\\r\\n<li class=\"nav-item\"><a class=\"nav-link\" href=\"https://holland2stay.com/services/\">Services</a></li>-->\\r\\n<li class=\"nav-item\"><a class=\"nav-link\" href=\"https://holland2stay.com/coming-soon/\">coming soon </a></li>\\r\\n<!--<li class=\"nav-item\"><a class=\"nav-link\" href=\"https://holland2stay.com/our-story/\">About</a></li>-->\\r\\n<li class=\"nav-item\"><a class=\"nav-link\" href=\"https://holland2stay.com/blog/\">Newsroom</a></li>\\r\\n<li class=\"nav-item\"><a class=\"nav-link\" href=\"https://holland2stay.com/contact/\">Contact</a></li>\\r\\n</ul>          \\n    <span class=\"navbar-text\">\\n          <ul class=\"navbar-nav\">           \\n            <li class=\"nav-item login\">\\n            <a class=\"nav-link\" href=\"https://holland2stay.com/customer/account/login/\"><i class=\"far fa-user\"></i> Login</a>\\n            </li>\\n            <li class=\"nav-item btn\"> \\n            <a class=\"btn header-btn\" href=\"https://holland2stay.com/customer/account/create/\"><img src=\"https://holland2stay.com/static/version1662101656/frontend/Holland/newtheme/en_US/images/pen.png\"> register now</a>\\n            </li>\\n          </ul>\\n    </span>\\n                   \\n              <!--   -->\\n         \\n          </div>\\n        </nav>\\n  </div>\\n<script type=\"text/javascript\">\\n            require([\\'bootstrap\\']);\\n        </script></header><main id=\"maincontent\" class=\"page-main-new\"><section class=\"innerpage-banner\"><div class=\"category-image\"><img src=\"/media/catalog/tmp/category/residence-banner.jpg\" alt=\"Residences\" title=\"Residences\" class=\"image\" /></div></section><a id=\"contentarea\" tabindex=\"-1\"></a>\\n<div class=\"page messages\"><div data-placeholder=\"messages\"></div>\\n<div data-bind=\"scope: \\'messages\\'\">\\n    <!-- ko if: cookieMessages && cookieMessages.length > 0 -->\\n    <div aria-atomic=\"true\" role=\"alert\" data-bind=\"foreach: { data: cookieMessages, as: \\'message\\' }\" class=\"messages\">\\n        <div data-bind=\"attr: {\\n            class: \\'message-\\' + message.type + \\' \\' + message.type + \\' message\\',\\n            \\'data-ui-id\\': \\'message-\\' + message.type\\n        }\">\\n            <div data-bind=\"html: $parent.prepareMessageForHtml(message.text)\"></div>\\n        </div>\\n    </div>\\n    <!-- /ko -->\\n\\n    <!-- ko if: messages().messages && messages().messages.length > 0 -->\\n    <div aria-atomic=\"true\" role=\"alert\" class=\"messages\" data-bind=\"foreach: {\\n        data: messages().messages, as: \\'message\\'\\n    }\">\\n        <div data-bind=\"attr: {\\n            class: \\'message-\\' + message.type + \\' \\' + message.type + \\' message\\',\\n            \\'data-ui-id\\': \\'message-\\' + message.type\\n        }\">\\n            <div data-bind=\"html: $parent.prepareMessageForHtml(message.text)\"></div>\\n        </div>\\n    </div>\\n    <!-- /ko -->\\n</div>\\n<script type=\"text/x-magento-init\">\\n    {\\n        \"*\": {\\n            \"Magento_Ui/js/core/app\": {\\n                \"components\": {\\n                        \"messages\": {\\n                            \"component\": \"Magento_Theme/js/view/messages\"\\n                        }\\n                    }\\n                }\\n            }\\n    }\\n</script>\\n</div><div class=\"columns\"><div class=\"c\"><section class=\"residence-section\"><div class=\"container\">    <div class=\"category-description\">\\n        \\r\\n    </div>\\n<div class=\"row\"><div class=\"col-lg-3 sidebar sidebar-main\">  \\r\\n         \\r\\n<div class=\"search-widget\">\\r\\n<h4><i class=\"fa fa-search\"></i>SEARCH AVAILABILITY</h4>\\r\\n     <form id=\"searchbox\" method=\"post\" action=\"\">\\r\\n        \\r\\n            <select name=\"city\" class=\"s-city\">\\r\\n                <option value=\"\">choose a city</option>\\r\\n                <option value=\\'24\\'>Amsterdam</option><option value=\\'320\\'>Arnhem</option><option value=\\'619\\'>Capelle aan den IJssel</option><option value=\\'26\\'>Delft</option><option value=\\'28\\'>Den Bosch</option><option value=\\'90\\'>Den Haag</option><option value=\\'110\\'>Diemen</option><option value=\\'620\\'>Dordrecht</option><option value=\\'29\\'>Eindhoven</option><option value=\\'545\\'>Groningen</option><option value=\\'616\\'>Haarlem</option><option value=\\'6099\\'>Helmond</option><option value=\\'6209\\'>Maarssen</option><option value=\\'6090\\'>Maastricht</option><option value=\\'25\\'>Rotterdam</option><option value=\\'6211\\'>Sittard</option><option value=\\'6093\\'>Tilburg</option><option value=\\'27\\'>Utrecht</option><option value=\\'6051\\'>Nieuwegein</option><option value=\\'6127\\'>Waalre</option><option value=\\'6098\\'>Waddinxveen</option><option value=\\'6145\\'>Zeist</option><option value=\\'6088\\'>Zoetermeer</option>            </select>           \\r\\n             <div class=\"sf-btns\">\\r\\n                    <input type=\"button\" value=\"Search\" class=\"search btn btn-style\">\\r\\n                    \\r\\n             </div>\\r\\n        \\r\\n    </form>\\r\\n</div>\\r\\n    <script type=\"text/javascript\">\\r\\n         require([\\'jquery\\'],function($){\\r\\n\\r\\n            $(\\'.search.btn\\').click(function(e){\\r\\n                e.preventDefault()\\r\\n                var city = $(\".s-city\").children(\"option:selected\").val();               \\r\\n                if(city !== \"\"){\\r\\n                    var url =\"available_to_book=179,336&city=\"+city; \\r\\n                     $(\\'#searchbox\\').attr(\\'action\\', \"/residences.html?\"+url).submit();\\r\\n                }\\r\\n\\r\\n            })\\r\\n\\r\\n\\r\\n         });   \\r\\n\\r\\n </script>\\r\\n\\r\\n <div class=\"sd-help\">\\r\\n<h5>NEED HELP?</h5>\\r\\n<p>Learn more about the booking process and our contract types in our <a class=\"help-link\" style=\"text-decoration: underline;\" href=\"https://holland2stay.com/faq.html\" target=\"_blank\" >FAQ</a>.</p>\\r\\n</div>\\r\\n<div id=\"layered-filter-block-container\" class=\"layered-filter-block-container\">\\r\\n            <div class=\"block filter\" id=\"layered-filter-block\"\\r\\n         data-mage-init=\\'{\"collapsible\":{\"openedState\": \"active\", \"collapsible\": true, \"active\": false, \"collateral\": { \"openedState\": \"filter-active\", \"element\": \"body\" } }}\\'>\\r\\n        <div id=\"ln_overlay\" class=\"ln_overlay\">\\r\\n            <div class=\"loader\">\\r\\n                <img src=\"https://holland2stay.com/static/version1662101656/frontend/Holland/newtheme/en_US/images/loader-1.gif\" alt=\"Loading...\">\\r\\n            </div>\\r\\n        </div>\\r\\n        <div class=\"block-title filter-title\" data-count=\"1\">\\r\\n            <strong data-role=\"title\">Filter menu</strong>\\r\\n        </div>\\r\\n        <div class=\"block-content filter-content\" data-mage-init=\\'{\"mpLayer\": {&quot;active&quot;:[&quot;id&quot;,&quot;available_to_book&quot;],&quot;params&quot;:{&quot;id&quot;:&quot;7&quot;,&quot;available_to_book&quot;:&quot;179&quot;},&quot;isCustomerLoggedIn&quot;:false,&quot;isAjax&quot;:true,&quot;slider&quot;:{&quot;price&quot;:{&quot;selectedFrom&quot;:927,&quot;selectedTo&quot;:927,&quot;minValue&quot;:927,&quot;maxValue&quot;:927,&quot;priceFormat&quot;:&quot;{\\\\&quot;pattern\\\\&quot;:\\\\&quot;\\\\\\\\u20ac%s\\\\&quot;,\\\\&quot;precision\\\\&quot;:2,\\\\&quot;requiredPrecision\\\\&quot;:2,\\\\&quot;decimalSymbol\\\\&quot;:\\\\&quot;.\\\\&quot;,\\\\&quot;groupSymbol\\\\&quot;:\\\\&quot;,\\\\&quot;,\\\\&quot;groupLength\\\\&quot;:3,\\\\&quot;integerRequired\\\\&quot;:false}&quot;,&quot;ajaxUrl&quot;:&quot;https:\\\\/\\\\/holland2stay.com\\\\/residences.html?available_to_book=179&amp;price=from-to&quot;}},&quot;scroll&quot;:true,&quot;buttonSubmit&quot;:{&quot;enable&quot;:false,&quot;seoUrlEnable&quot;:true,&quot;baseUrl&quot;:&quot;https:\\\\/\\\\/holland2stay.com\\\\/residences.html&quot;,&quot;urlSuffix&quot;:&quot;.html&quot;},&quot;multipleAttrs&quot;:[&quot;cat&quot;,&quot;manufacturer&quot;,&quot;bed&quot;,&quot;available_to_book&quot;,&quot;location_province&quot;,&quot;location_city&quot;,&quot;event_month_year&quot;,&quot;city&quot;,&quot;building_name&quot;,&quot;building_facilities&quot;,&quot;residence_facilities&quot;,&quot;type_of_contract&quot;,&quot;tenant_profile_restrictions&quot;,&quot;finishing&quot;,&quot;maximum_number_of_persons&quot;,&quot;no_of_rooms&quot;,&quot;resident_type&quot;,&quot;floor&quot;],&quot;swatchOptionText&quot;:[]}}\\'>\\r\\n            <div class=\"filter-current\" data-mage-init=\\'{\"collapsible\":{\"openedState\": \"active\", \"collapsible\": true, \"active\": false }}\\'>\\n    <strong class=\"block-subtitle filter-current-subtitle\"\\n            role=\"heading\"\\n            aria-level=\"2\"\\n            data-role=\"title\"\\n            data-count=\"1\">Now Shopping by</strong>\\n    <ol class=\"items\">\\n                    <li class=\"item\">\\n                <span class=\"filter-label\">Availability</span>\\n                <span class=\"filter-value\">Available to book</span>\\n                                    <a class=\"action remove\" href=\"https://holland2stay.com/residences.html\"\\n                       title=\"Remove Availability&#x20;Available&#x20;to&#x20;book\">\\n                        <span>Remove This Item</span>\\n                    </a>\\n                            </li>\\n            </ol>\\n</div>\\n                            <div class=\"block-actions filter-actions\">\\r\\n                    <a href=\"https://holland2stay.com/residences.html\" class=\"action clear filter-clear\">\\r\\n                        <span>Clear All</span>\\r\\n                    </a>\\r\\n                </div>\\r\\n                                                                                                                                                                                                        <strong role=\"heading\" aria-level=\"2\" class=\"block-subtitle filter-subtitle\">\\r\\n                            Filter menu                        </strong>\\r\\n                        <div class=\"filter-options\" id=\"narrow-by-list\" data-role=\"content\">\\r\\n                                            <div data-role=\"ln_collapsible\" class=\"filter-options-item\"\\r\\n                         attribute=\"available_to_book\">\\r\\n                        <div data-role=\"ln_title\" class=\"filter-options-title\">\\r\\n                            Availability                                                    </div>\\r\\n                        <div data-role=\"ln_content\" class=\"filter-options-content\">\\r\\n                                                            <ol class=\"items ln-items-available_to_book \">\\r\\n            <li class=\"item\" >\\r\\n                            <input type=\"checkbox\" checked=\"checked\"                       class=\"layer-input-filter\" name=\"filter_available_to_book\">\\r\\n                <a href=\"https://holland2stay.com/residences.html\">\\r\\n                    Available to book                                            <span class=\"count\">1<span\\r\\n                                    class=\"filter-count-label\">item</span></span>\\r\\n                                    </a>\\r\\n                    </li>\\r\\n            <li class=\"item\" >\\r\\n                    </li>\\r\\n            <li class=\"item\" >\\r\\n                            <input type=\"checkbox\"                        class=\"layer-input-filter\" name=\"filter_available_to_book\">\\r\\n                <a href=\"https://holland2stay.com/residences.html?available_to_book=179%2C180\">\\r\\n                    Occupied                                            <span class=\"count\">9216<span\\r\\n                                    class=\"filter-count-label\">items</span></span>\\r\\n                                    </a>\\r\\n                    </li>\\r\\n            <p class=\\'hide total-available_to_book\\' style=\"display:none;\">842</p>\\r\\n    </ol>\\r\\n                                                    </div>\\r\\n                    </div>\\r\\n                                                                                                                                                                                            <div data-role=\"ln_collapsible\" class=\"filter-options-item\"\\r\\n                         attribute=\"city\">\\r\\n                        <div data-role=\"ln_title\" class=\"filter-options-title\">\\r\\n                            City                                                    </div>\\r\\n                        <div data-role=\"ln_content\" class=\"filter-options-content\">\\r\\n                                                            <ol class=\"items ln-items-city \">\\r\\n            <li class=\"item\" >\\r\\n                    </li>\\r\\n            <li class=\"item\" >\\r\\n                    </li>\\r\\n            <li class=\"item\" >\\r\\n                            <input type=\"checkbox\"                        class=\"layer-input-filter\" name=\"filter_city\">\\r\\n                <a href=\"https://holland2stay.com/residences.html?available_to_book=179&amp;city=619\">\\r\\n                    Capelle aan den IJssel                                            <span class=\"count\">1<span\\r\\n                                    class=\"filter-count-label\">item</span></span>\\r\\n                                    </a>\\r\\n                    </li>\\r\\n            <li class=\"item\" >\\r\\n                    </li>\\r\\n            <li class=\"item\" >\\r\\n                    </li>\\r\\n            <li class=\"item\" >\\r\\n                    </li>\\r\\n            <li class=\"item\" >\\r\\n                    </li>\\r\\n            <li class=\"item\" >\\r\\n                    </li>\\r\\n            <li class=\"item\" >\\r\\n                    </li>\\r\\n            <li class=\"item\" >\\r\\n                    </li>\\r\\n            <li class=\"item\" >\\r\\n                    </li>\\r\\n            <li class=\"item\" >\\r\\n                    </li>\\r\\n            <li class=\"item\" >\\r\\n                    </li>\\r\\n            <li class=\"item\" >\\r\\n                    </li>\\r\\n            <li class=\"item\" >\\r\\n                    </li>\\r\\n            <li class=\"item\" >\\r\\n                    </li>\\r\\n            <li class=\"item\" >\\r\\n                    </li>\\r\\n            <li class=\"item\" >\\r\\n                    </li>\\r\\n            <li class=\"item\" >\\r\\n                    </li>\\r\\n            <li class=\"item\" >\\r\\n                    </li>\\r\\n            <li class=\"item\" >\\r\\n                    </li>\\r\\n            <li class=\"item\" >\\r\\n                    </li>\\r\\n            <li class=\"item\" >\\r\\n                    </li>\\r\\n        </ol>\\r\\n                                                    </div>\\r\\n                    </div>\\r\\n                                                                                                        <div data-role=\"ln_collapsible\" class=\"filter-options-item\"\\r\\n                         attribute=\"building_name\">\\r\\n                        <div data-role=\"ln_title\" class=\"filter-options-title\">\\r\\n                            Building Name                                                    </div>\\r\\n                        <div data-role=\"ln_content\" class=\"filter-options-content\">\\r\\n                                                                <input type=\"text\" class=\"layer-search-box\" code=\"building_name\" placeholder=\"Search\"/>\\r\\n<ol class=\"items ln-items-building_name layer-search-list layer-search-list-building_name\">\\r\\n            <li class=\"item\" data-search-term=\"rive tower 1\">\\r\\n                            <input type=\"checkbox\"                        class=\"layer-input-filter\" name=\"filter_building_name\">\\r\\n                <a href=\"https://holland2stay.com/residences/rivetower1.html?available_to_book=179\">\\r\\n                    Rive Tower 1                                            <span class=\"count\">1<span\\r\\n                                    class=\"filter-count-label\">item</span></span>\\r\\n                                    </a>\\r\\n                    </li>\\r\\n        </ol>\\r\\n                                                    </div>\\r\\n                    </div>\\r\\n                                                                                                        <div data-role=\"ln_collapsible\" class=\"filter-options-item\"\\r\\n                         attribute=\"building_facilities\">\\r\\n                        <div data-role=\"ln_title\" class=\"filter-options-title\">\\r\\n                            Building facilities                                                    </div>\\r\\n                        <div data-role=\"ln_content\" class=\"filter-options-content\">\\r\\n                                                                <input type=\"text\" class=\"layer-search-box\" code=\"building_facilities\" placeholder=\"Search\"/>\\r\\n<ol class=\"items ln-items-building_facilities layer-search-list layer-search-list-building_facilities\">\\r\\n            <li class=\"item\" data-search-term=\"parking\">\\r\\n                            <input type=\"checkbox\"                        class=\"layer-input-filter\" name=\"filter_building_facilities\">\\r\\n                <a href=\"https://holland2stay.com/residences/parking.html?available_to_book=179\">\\r\\n                    Parking                                            <span class=\"count\">1<span\\r\\n                                    class=\"filter-count-label\">item</span></span>\\r\\n                                    </a>\\r\\n                    </li>\\r\\n            <li class=\"item\" data-search-term=\"bikeshed\">\\r\\n                            <input type=\"checkbox\"                        class=\"layer-input-filter\" name=\"filter_building_facilities\">\\r\\n                <a href=\"https://holland2stay.com/residences/bikeshed.html?available_to_book=179\">\\r\\n                    Bikeshed                                            <span class=\"count\">1<span\\r\\n                                    class=\"filter-count-label\">item</span></span>\\r\\n                                    </a>\\r\\n                    </li>\\r\\n            <li class=\"item\" data-search-term=\"laundrette\">\\r\\n                            <input type=\"checkbox\"                        class=\"layer-input-filter\" name=\"filter_building_facilities\">\\r\\n                <a href=\"https://holland2stay.com/residences/laundrette.html?available_to_book=179\">\\r\\n                    Laundrette                                            <span class=\"count\">1<span\\r\\n                                    class=\"filter-count-label\">item</span></span>\\r\\n                                    </a>\\r\\n                    </li>\\r\\n        </ol>\\r\\n                                                    </div>\\r\\n                    </div>\\r\\n                                                                                                        <div data-role=\"ln_collapsible\" class=\"filter-options-item\"\\r\\n                         attribute=\"residence_facilities\">\\r\\n                        <div data-role=\"ln_title\" class=\"filter-options-title\">\\r\\n                            Residence facilities                                                    </div>\\r\\n                        <div data-role=\"ln_content\" class=\"filter-options-content\">\\r\\n                                                            <ol class=\"items ln-items-residence_facilities \">\\r\\n            <li class=\"item\" >\\r\\n                            <input type=\"checkbox\"                        class=\"layer-input-filter\" name=\"filter_residence_facilities\">\\r\\n                <a href=\"https://holland2stay.com/residences/dishwasher.html?available_to_book=179\">\\r\\n                    Dishwasher                                            <span class=\"count\">1<span\\r\\n                                    class=\"filter-count-label\">item</span></span>\\r\\n                                    </a>\\r\\n                    </li>\\r\\n            <li class=\"item\" >\\r\\n                            <input type=\"checkbox\"                        class=\"layer-input-filter\" name=\"filter_residence_facilities\">\\r\\n                <a href=\"https://holland2stay.com/residences/wifirouter.html?available_to_book=179\">\\r\\n                    WiFi router                                            <span class=\"count\">1<span\\r\\n                                    class=\"filter-count-label\">item</span></span>\\r\\n                                    </a>\\r\\n                    </li>\\r\\n            <li class=\"item\" >\\r\\n                            <input type=\"checkbox\"                        class=\"layer-input-filter\" name=\"filter_residence_facilities\">\\r\\n                <a href=\"https://holland2stay.com/residences/floorheating.html?available_to_book=179\">\\r\\n                    Floor heating                                            <span class=\"count\">1<span\\r\\n                                    class=\"filter-count-label\">item</span></span>\\r\\n                                    </a>\\r\\n                    </li>\\r\\n        </ol>\\r\\n                                                    </div>\\r\\n                    </div>\\r\\n                                                                                                        <div data-role=\"ln_collapsible\" class=\"filter-options-item\"\\r\\n                         attribute=\"type_of_contract\">\\r\\n                        <div data-role=\"ln_title\" class=\"filter-options-title\">\\r\\n                            Max. rental period                                                    </div>\\r\\n                        <div data-role=\"ln_content\" class=\"filter-options-content\">\\r\\n                                                            <ol class=\"items ln-items-type_of_contract \">\\r\\n            <li class=\"item\" >\\r\\n                            <input type=\"checkbox\"                        class=\"layer-input-filter\" name=\"filter_type_of_contract\">\\r\\n                <a href=\"https://holland2stay.com/residences/5monthsmax.html?available_to_book=179\">\\r\\n                    5 months max                                            <span class=\"count\">1<span\\r\\n                                    class=\"filter-count-label\">item</span></span>\\r\\n                                    </a>\\r\\n                    </li>\\r\\n        </ol>\\r\\n                                                    </div>\\r\\n                    </div>\\r\\n                                                                                                                                    <div data-role=\"ln_collapsible\" class=\"filter-options-item\"\\r\\n                         attribute=\"price\">\\r\\n                        <div data-role=\"ln_title\" class=\"filter-options-title\">\\r\\n                            Rent p/month                                                    </div>\\r\\n                        <div data-role=\"ln_content\" class=\"filter-options-content\">\\r\\n                                                            <ol class=\"items\">\\r\\n    <li class=\"item\">\\r\\n        <div id=\"ln_slider_container_price\" class=\"ln_slider_container\">\\r\\n                            <div id=\"ln_slider_price\" class=\"ln_slider_element\"></div>\\r\\n                <div id=\"ln_slider_text_price\"></div>\\r\\n                    </div>\\r\\n    </li>\\r\\n</ol>\\r\\n                                                    </div>\\r\\n                    </div>\\r\\n                                                                                                        <div data-role=\"ln_collapsible\" class=\"filter-options-item\"\\r\\n                         attribute=\"finishing\">\\r\\n                        <div data-role=\"ln_title\" class=\"filter-options-title\">\\r\\n                            Finishing                                                    </div>\\r\\n                        <div data-role=\"ln_content\" class=\"filter-options-content\">\\r\\n                                                            <ol class=\"items ln-items-finishing \">\\r\\n            <li class=\"item\" >\\r\\n                            <input type=\"checkbox\"                        class=\"layer-input-filter\" name=\"filter_finishing\">\\r\\n                <a href=\"https://holland2stay.com/residences/fullyfurnished.html?available_to_book=179\">\\r\\n                    Fully furnished                                            <span class=\"count\">1<span\\r\\n                                    class=\"filter-count-label\">item</span></span>\\r\\n                                    </a>\\r\\n                    </li>\\r\\n        </ol>\\r\\n                                                    </div>\\r\\n                    </div>\\r\\n                                                                                                        <div data-role=\"ln_collapsible\" class=\"filter-options-item\"\\r\\n                         attribute=\"maximum_number_of_persons\">\\r\\n                        <div data-role=\"ln_title\" class=\"filter-options-title\">\\r\\n                            Max. occupants                                                    </div>\\r\\n                        <div data-role=\"ln_content\" class=\"filter-options-content\">\\r\\n                                                            <ol class=\"items ln-items-maximum_number_of_persons \">\\r\\n            <li class=\"item\" >\\r\\n                            <input type=\"checkbox\"                        class=\"layer-input-filter\" name=\"filter_maximum_number_of_persons\">\\r\\n                <a href=\"https://holland2stay.com/residences/twoonlycouples.html?available_to_book=179\">\\r\\n                    Two (only couples)                                            <span class=\"count\">1<span\\r\\n                                    class=\"filter-count-label\">item</span></span>\\r\\n                                    </a>\\r\\n                    </li>\\r\\n        </ol>\\r\\n                                                    </div>\\r\\n                    </div>\\r\\n                                                                                                        <div data-role=\"ln_collapsible\" class=\"filter-options-item\"\\r\\n                         attribute=\"no_of_rooms\">\\r\\n                        <div data-role=\"ln_title\" class=\"filter-options-title\">\\r\\n                            Bedrooms                                                    </div>\\r\\n                        <div data-role=\"ln_content\" class=\"filter-options-content\">\\r\\n                                                            <ol class=\"items ln-items-no_of_rooms \">\\r\\n            <li class=\"item\" >\\r\\n                            <input type=\"checkbox\"                        class=\"layer-input-filter\" name=\"filter_no_of_rooms\">\\r\\n                <a href=\"https://holland2stay.com/residences/studio1.html?available_to_book=179\">\\r\\n                    Studio                                            <span class=\"count\">1<span\\r\\n                                    class=\"filter-count-label\">item</span></span>\\r\\n                                    </a>\\r\\n                    </li>\\r\\n        </ol>\\r\\n                                                    </div>\\r\\n                    </div>\\r\\n                                                                                                        <div data-role=\"ln_collapsible\" class=\"filter-options-item\"\\r\\n                         attribute=\"resident_type\">\\r\\n                        <div data-role=\"ln_title\" class=\"filter-options-title\">\\r\\n                            Residence Type                                                    </div>\\r\\n                        <div data-role=\"ln_content\" class=\"filter-options-content\">\\r\\n                                                            <ol class=\"items ln-items-resident_type \">\\r\\n            <li class=\"item\" >\\r\\n                            <input type=\"checkbox\"                        class=\"layer-input-filter\" name=\"filter_resident_type\">\\r\\n                <a href=\"https://holland2stay.com/residences/studio.html?available_to_book=179\">\\r\\n                    Studio                                            <span class=\"count\">1<span\\r\\n                                    class=\"filter-count-label\">item</span></span>\\r\\n                                    </a>\\r\\n                    </li>\\r\\n        </ol>\\r\\n                                                    </div>\\r\\n                    </div>\\r\\n                                                                                                        <div data-role=\"ln_collapsible\" class=\"filter-options-item\"\\r\\n                         attribute=\"floor\">\\r\\n                        <div data-role=\"ln_title\" class=\"filter-options-title\">\\r\\n                            Floor                                                    </div>\\r\\n                        <div data-role=\"ln_content\" class=\"filter-options-content\">\\r\\n                                                            <ol class=\"items ln-items-floor \">\\r\\n            <li class=\"item\" >\\r\\n                            <input type=\"checkbox\"                        class=\"layer-input-filter\" name=\"filter_floor\">\\r\\n                <a href=\"https://holland2stay.com/residences/31.html?available_to_book=179\">\\r\\n                    3                                            <span class=\"count\">1<span\\r\\n                                    class=\"filter-count-label\">item</span></span>\\r\\n                                    </a>\\r\\n                    </li>\\r\\n        </ol>\\r\\n                                                    </div>\\r\\n                    </div>\\r\\n                                                        </div>\\r\\n                                </div>\\r\\n    </div>\\r\\n    <script type=\"text/javascript\">\\r\\n    require([\\'jquery\\'],function($){\\r\\n       \\r\\n       var total = parseInt($(\\'.hide.total-available_to_book\\').text());\\r\\n       var octotal = parseInt($(\\'.count.occupied\\').text());\\r\\n       var fitotal = total+octotal;\\r\\n       //console.log(fitotal);\\r\\n       $(\\'.count.occupied\\').text(fitotal);\\r\\n\\r\\n    });\\r\\n</script>\\r\\n<style type=\"text/css\">\\r\\n    @media screen  and (max-width:767px){\\r\\n        .filter-subtitle {\\r\\n    display: none !important;\\r\\n}\\r\\n.sidebar .block-title.filter-title {\\r\\n    display: block !important;\\r\\n    background-color: #99e1eb;\\r\\n    padding: 20px 30px 20px 10px;\\r\\n    margin: 20px 0 40px 0;\\r\\n    border-radius: 10px;\\r\\n}\\r\\n.filter.active .block-title.filter-title {\\r\\n    background: transparent;\\r\\n    padding: 0;\\r\\n    margin: 0;\\r\\n    border-radius: 0;\\r\\n}\\r\\n.filter.active .filter-subtitle {\\r\\n    background: transparent;\\r\\n    display: block !important;\\r\\n    height: 50px;\\r\\n    left: 0;\\r\\n    line-height: 32px;\\r\\n    position: fixed;\\r\\n    right: 0;\\r\\n    top: 0;\\r\\n    z-index: 1;\\r\\n}\\r\\n.filter.active .filter-options {\\r\\n    background: #fff;\\r\\n    bottom: 0;\\r\\n    display: block !important;\\r\\n    left: 0;\\r\\n    overflow: scroll;\\r\\n    position: fixed;\\r\\n    right: 0;\\r\\n    top: 50px;\\r\\n    max-height: unset; !important;\\r\\n    z-index: 10;\\r\\n}\\r\\n.filter.active .filter-title strong {\\r\\n    box-shadow: none;\\r\\n    background: none;\\r\\n    border: 0;\\r\\n    color: transparent;\\r\\n    left: auto;\\r\\n    right: 3px;\\r\\n    top: 10px;\\r\\n    display: inline-block;\\r\\n    text-decoration: none;\\r\\n}\\r\\n.filter .block-subtitle:after {\\r\\n  display: none !important;\\r\\n    }\\r\\n\\r\\n  .filter .block-subtitle {\\r\\n    border-bottom: 1px solid #ccc;\\r\\n    font-size: 14px;\\r\\n    font-weight: 600;\\r\\n    line-height: 1em;\\r\\n    padding: 10px 10px 20px;\\r\\n}\\r\\n.filter-title strong {\\r\\n     background-color: #fff; \\r\\n     font-size: 14px;\\r\\n     font-weight: 600;\\r\\n     line-height: 1em;\\r\\n     border: none;\\r\\n     text-transform: uppercase;\\r\\n     padding: 10px 10px 20px;\\r\\n     border-bottom: 1px solid #ccc;\\r\\n     box-shadow: unset;\\r\\n     border-radius: 0;\\r\\n     position: unset;    \\r\\n     text-align: left;\\r\\n     display: block;\\r\\n}\\r\\n.filter.active .filter-title strong{\\r\\n    position: absolute;\\r\\n}\\r\\n.sidebar .filter .filter-current+.block-actions {\\r\\n    display: block;\\r\\n    float: right;\\r\\n    margin: -39px 0 0;\\r\\n}\\r\\n}\\r\\n</style>\\r\\n</div>\\r\\n\\r\\n</div><div class=\"col-lg-9\"><div class=\"regi-title-box\">\\r\\n<h5 class=\"regularbold\">Showing <span class=\"total-residence\">6794</span> residences, and possibly your future home!</h5>\\r\\n<p>We refresh our offer daily!</p>\\r\\n\\r\\n\\r\\n\\r\\n </div><div class=\"row\"><div class=\"col-md-9\">\\r\\n<div id=\"layer-product-list\">\\r\\n                <div class=\"toolbar toolbar-products\" data-mage-init=\\'{\"productListToolbarForm\":{\"mode\":\"product_list_mode\",\"direction\":\"product_list_dir\",\"order\":\"product_list_order\",\"limit\":\"product_list_limit\",\"modeDefault\":\"grid\",\"directionDefault\":\"asc\",\"orderDefault\":\"available_startdate\",\"limitDefault\":10,\"url\":\"https:\\\\/\\\\/holland2stay.com\\\\/residences.html?available_to_book=179\",\"formKey\":\"Ar9R1eNGd9SkPGXV\",\"post\":false}}\\'>\\n                    <div class=\"modes\">\\n        </div>\\n                <!--p class=\"toolbar-amount\" id=\"toolbar-amount\">\\n    </p-->\\n<script type=\"text/javascript\">\\n    require([\\'jquery\\'],function($){\\n\\n        $(\".total-residence\").text(\"1\");\\n\\n    })\\n</script>        \\n        \\n    \\n        \\n        \\n    \\n    \\n\\n        <div class=\"show-perpage text-right\">\\n    <span>Show</span>\\n                                                          <a                     class=\"current\" href=\"https://holland2stay.com/residences.html?available_to_book=179\">10</a>\\n                  \\n                                        \\n                   \\n                 <a   href=\"https://holland2stay.com/residences.html?available_to_book=179&product_list_limit=20\">20</a>\\n                 \\n                                        \\n                   \\n                 <a   href=\"https://holland2stay.com/residences.html?available_to_book=179&product_list_limit=30\">30</a>\\n                 \\n          \\n    \\n    <span >per page</span>\\n</div>\\n\\n                    <div class=\"short-by text-right\">\\n    <label class=\"sorter-label\" for=\"sorter\">Show</label>\\n    <select id=\"sorter\" data-role=\"sorter\" class=\"sorter-options\">\\n                    <option value=\"price\"\\n                                >\\n                                Rent p/month            </option>\\n                    <option value=\"available_startdate\"\\n                                    selected=\"selected\"\\n                                >\\n                                Available Start date            </option>\\n            </select>\\n    </div>\\n            </div>\\n            <div class=\"regi-list\">\\n\\n                                    \\t\\t\\t\\t\\t            \\t\\t\\t\\t            <div class=\"regi-item d-flex flex-wrap\" data-url=\"https://holland2stay.com/rivium-1e-straat-63r.html\">\\n\\t\\t\\t                    \\t\\t\\t                    \\t\\t\\t\\t                    <div class=\"regi-img\">\\n\\t\\t\\t\\t\\t                    <a href=\"https://holland2stay.com/rivium-1e-straat-63r.html\"\\n\\t\\t\\t\\t\\t                       class=\"product photo product-item-photo\"\\n\\t\\t\\t\\t\\t                       tabindex=\"-1\">\\n\\t\\t\\t\\t\\t                        <span class=\"product-image-container product-image-container-12078\">\\n    <span class=\"product-image-wrapper\">\\n        <img class=\"product-image-photo\"\\n                        src=\"https://holland2stay.com/media/catalog/product/cache/3b001b33d1a1d04dc280f01b3ed5e0db/r/t/rt1-s3.jpg\"\\n            loading=\"lazy\"\\n            width=\"600\"\\n            height=\"313\"\\n            alt=\"Rivium&#x20;1e&#x20;straat&#x20;63R\"/></span>\\n</span>\\n<style>.product-image-container-12078 {\\n    width: 600px;\\n}\\n.product-image-container-12078 span.product-image-wrapper {\\n    padding-bottom: 52.166666666667%;\\n}</style><script type=\"text&#x2F;javascript\">prodImageContainers = document.querySelectorAll(\".product-image-container-12078\");\\nfor (var i = 0; i < prodImageContainers.length; i++) {\\n    prodImageContainers[i].style.width = \"600px\";\\n}\\nprodImageContainersWrappers = document.querySelectorAll(\\n    \".product-image-container-12078  span.product-image-wrapper\"\\n);\\nfor (var i = 0; i < prodImageContainersWrappers.length; i++) {\\n    prodImageContainersWrappers[i].style.paddingBottom = \"52.166666666667%\";\\n}</script>\\t\\t\\t\\t\\t                    </a>\\n\\t\\t\\t\\t               \\t\\t</div>\\n\\t\\t\\t\\t               \\t\\t \\t\\t\\t\\t                    \\t<div class=\"regi-center\">\\n\\t\\t\\t\\t                    \\t\\t<div class=\"item-head\"><h4 class=\"regularbold\" title=\"You can book this residences right away. No need to sign up for a waiting list or to participate in a lottery.\">Rivium 1e straat 63R <!--span class=\"new-tag\">New!</span>--> <span class=\"direct-tag\" style=\"font-style:initial;font-size:12px; font-weight: 700; font-family:\\'Montserrat Regular\\'\"> BOOK DIRECTLY</span>\\n\\t\\t\\t\\t                    \\t\\t\\t\\t\\t\\t\\t\\t\\t\\t\\t\\t\\t\\t\\t\\n\\t\\t\\t\\t                    \\t\\t</h4></div>\\n\\t\\t\\t\\t                    \\t \\t\\t\\t\\t<ul class=\"regi-info\">\\n\\t\\t\\t\\t                                            <li><i class=\"fas  fa-calendar\"></i> <strong>Available from 11 Oct, 2022</strong></li>\\n\\t\\t\\t\\t                                            <li><i class=\"fas  fa-map-marker-alt\"></i><span style=\"margin-left: 5px;\">Capelle aan den IJssel</span>  <!--(<a href=\"#\">Open in Maps</a>)--></li>\\n\\t\\t\\t\\t                                            <li><i class=\"far fa-building\"></i><span style=\"margin-left: 3px;\">Rive Tower 1</span> <!--(<a href=\"#\">More about this building</a>)--></li>\\n\\t\\t\\t\\t                                        </ul>\\n\\t\\t\\t\\t                                        <ul class=\"regi-acm\">\\n\\t\\t\\t\\t                                            <!-- <li>Studio</li>-->\\n\\t\\t\\t\\t                                            <!--li>600m from city</li>\\n\\t\\t\\t\\t                                            <li>Near bus stop</li-->\\n\\t\\t\\t\\t                                            <li>Fully furnished</li>\\n\\t\\t\\t\\t                                            <li>Floor 3</li>\\n\\t\\t\\t\\t                                            <li>40 m2 </li>\\n\\t\\t\\t\\t                                            <li>Bedrooms: Studio </li>\\n\\t\\t\\t\\t                                            <li>Max occupancy: Two (only couples)</li>\\n\\t\\t\\t\\t                                            <li>Contract type: 5 months max</li>\\n\\t\\t\\t\\t                                            <li>Minimum stay: 1 month</li>\\n\\t\\t\\t\\t                                        </ul>\\n\\t\\t\\t\\t                    \\t</div>\\n\\t\\t\\t\\t\\t                    <div class=\"regi-right\">\\n\\t\\t\\t\\t                                <div class=\"regi-price\">\\n\\t\\t\\t\\t                                    <div class=\"price regularbold\">€750.00</div>\\n\\t\\t\\t\\t                                    <p>p/month Excl.*</p>\\n\\t\\t\\t\\t                                </div>\\n\\t\\t\\t\\t                                \\t\\t\\t\\t                            \\t <p class=\"notes\">*service costs, utilities, internet & TV\\t\\t\\t\\t                                \\t\\t\\t\\t                                amount to € 177.00 p/month\\n\\t\\t\\t\\t                               \\t\\t\\t\\t                            \\t</p>\\n\\n\\t\\t\\t\\t                            \\t \\t\\t\\t\\t                                <a href=\"https://holland2stay.com/rivium-1e-straat-63r.html\" class=\"btn btn-style blue-btn regularbold\">MORE INFO</a>\\n\\t\\t\\t\\t\\t                    </div>\\n\\t\\t\\t            </div>\\n\\t\\t\\t   \\t\\t\\t                                 \\t            \\n    </div>\\n <div class=\"bottom-section\">\\n     <div class=\"toolbar toolbar-products\" data-mage-init=\\'{\"productListToolbarForm\":{\"mode\":\"product_list_mode\",\"direction\":\"product_list_dir\",\"order\":\"product_list_order\",\"limit\":\"product_list_limit\",\"modeDefault\":\"grid\",\"directionDefault\":\"asc\",\"orderDefault\":\"available_startdate\",\"limitDefault\":10,\"url\":\"https:\\\\/\\\\/holland2stay.com\\\\/residences.html?available_to_book=179\",\"formKey\":\"Ar9R1eNGd9SkPGXV\",\"post\":false}}\\'>\\n                    <div class=\"modes\">\\n        </div>\\n                <!--p class=\"toolbar-amount\" id=\"toolbar-amount\">\\n    </p-->\\n<script type=\"text/javascript\">\\n    require([\\'jquery\\'],function($){\\n\\n        $(\".total-residence\").text(\"1\");\\n\\n    })\\n</script>        \\n        \\n    \\n        \\n        \\n    \\n    \\n\\n        <div class=\"show-perpage text-right\">\\n    <span>Show</span>\\n                                                          <a                     class=\"current\" href=\"https://holland2stay.com/residences.html?available_to_book=179\">10</a>\\n                  \\n                                        \\n                   \\n                 <a   href=\"https://holland2stay.com/residences.html?available_to_book=179&product_list_limit=20\">20</a>\\n                 \\n                                        \\n                   \\n                 <a   href=\"https://holland2stay.com/residences.html?available_to_book=179&product_list_limit=30\">30</a>\\n                 \\n          \\n    \\n    <span >per page</span>\\n</div>\\n\\n                    <div class=\"short-by text-right\">\\n    <label class=\"sorter-label\" for=\"sorter\">Show</label>\\n    <select id=\"sorter\" data-role=\"sorter\" class=\"sorter-options\">\\n                    <option value=\"price\"\\n                                >\\n                                Rent p/month            </option>\\n                    <option value=\"available_startdate\"\\n                                    selected=\"selected\"\\n                                >\\n                                Available Start date            </option>\\n            </select>\\n    </div>\\n            </div>\\n</div>\\n<script type=\"text/javascript\">\\n\\trequire([\\'jquery\\'],function($){\\n\\n\\t $(\".pages ul.pages-items li.item a\").click(function() {\\n  \\t\\t$(\"html, body\").animate({ scrollTop: 0 }, \"slow\");\\n  \\t });\\t\\n\\t$(\".regi-item.d-flex.flex-wrap\").click(function(){\\n\\t    var  url = $(this).data(\\'url\\');\\n\\t    if(typeof url !== \"undefined\"){\\n\\t      location.href = url;\\n\\t    }\\n});});\\n</script>\\n</div>\\r\\n</div><div class=\"col-md-3 add-sidebar\"><p><a href=\"https://holland2stay.com/residences/penthouse.html?city=25\"><img src=\"https://holland2stay.com/media/images/ad_lt_penthouses.jpg\" alt=\"Penthouse The Lee Towers\"></a></p></div></div></div></div></div></section><input name=\"form_key\" type=\"hidden\" value=\"Ar9R1eNGd9SkPGXV\" /><script type=\"text/x-magento-init\">\\n    {\\n        \"*\": {\\n            \"Magento_Customer/js/section-config\": {\\n                \"sections\": {\"stores\\\\/store\\\\/switch\":[\"*\"],\"stores\\\\/store\\\\/switchrequest\":[\"*\"],\"directory\\\\/currency\\\\/switch\":[\"*\"],\"*\":[\"messages\"],\"customer\\\\/account\\\\/logout\":[\"*\",\"recently_viewed_product\",\"recently_compared_product\",\"persistent\"],\"customer\\\\/account\\\\/loginpost\":[\"*\"],\"customer\\\\/account\\\\/createpost\":[\"*\"],\"customer\\\\/account\\\\/editpost\":[\"*\"],\"customer\\\\/ajax\\\\/login\":[\"checkout-data\",\"cart\",\"captcha\"],\"catalog\\\\/product_compare\\\\/add\":[\"compare-products\"],\"catalog\\\\/product_compare\\\\/remove\":[\"compare-products\"],\"catalog\\\\/product_compare\\\\/clear\":[\"compare-products\"],\"sales\\\\/guest\\\\/reorder\":[\"cart\"],\"sales\\\\/order\\\\/reorder\":[\"cart\"],\"checkout\\\\/cart\\\\/add\":[\"cart\",\"directory-data\"],\"checkout\\\\/cart\\\\/delete\":[\"cart\"],\"checkout\\\\/cart\\\\/updatepost\":[\"cart\"],\"checkout\\\\/cart\\\\/updateitemoptions\":[\"cart\"],\"checkout\\\\/cart\\\\/couponpost\":[\"cart\"],\"checkout\\\\/cart\\\\/estimatepost\":[\"cart\"],\"checkout\\\\/cart\\\\/estimateupdatepost\":[\"cart\"],\"checkout\\\\/onepage\\\\/saveorder\":[\"cart\",\"checkout-data\",\"last-ordered-items\"],\"checkout\\\\/sidebar\\\\/removeitem\":[\"cart\"],\"checkout\\\\/sidebar\\\\/updateitemqty\":[\"cart\"],\"rest\\\\/*\\\\/v1\\\\/carts\\\\/*\\\\/payment-information\":[\"cart\",\"last-ordered-items\",\"captcha\",\"instant-purchase\"],\"rest\\\\/*\\\\/v1\\\\/guest-carts\\\\/*\\\\/payment-information\":[\"cart\",\"captcha\"],\"rest\\\\/*\\\\/v1\\\\/guest-carts\\\\/*\\\\/selected-payment-method\":[\"cart\",\"checkout-data\"],\"rest\\\\/*\\\\/v1\\\\/carts\\\\/*\\\\/selected-payment-method\":[\"cart\",\"checkout-data\",\"instant-purchase\"],\"customer\\\\/address\\\\/*\":[\"instant-purchase\"],\"customer\\\\/account\\\\/*\":[\"instant-purchase\"],\"vault\\\\/cards\\\\/deleteaction\":[\"instant-purchase\"],\"persistent\\\\/index\\\\/unsetcookie\":[\"persistent\"],\"review\\\\/product\\\\/post\":[\"review\"],\"wishlist\\\\/index\\\\/add\":[\"wishlist\"],\"wishlist\\\\/index\\\\/remove\":[\"wishlist\"],\"wishlist\\\\/index\\\\/updateitemoptions\":[\"wishlist\"],\"wishlist\\\\/index\\\\/update\":[\"wishlist\"],\"wishlist\\\\/index\\\\/cart\":[\"wishlist\",\"cart\"],\"wishlist\\\\/index\\\\/fromcart\":[\"wishlist\",\"cart\"],\"wishlist\\\\/index\\\\/allcart\":[\"wishlist\",\"cart\"],\"wishlist\\\\/shared\\\\/allcart\":[\"wishlist\",\"cart\"],\"wishlist\\\\/shared\\\\/cart\":[\"cart\"]},\\n                \"clientSideSections\": [\"checkout-data\",\"cart-data\"],\\n                \"baseUrls\": [\"https:\\\\/\\\\/holland2stay.com\\\\/\",\"http:\\\\/\\\\/holland2stay.com\\\\/\"],\\n                \"sectionNames\": [\"messages\",\"customer\",\"compare-products\",\"last-ordered-items\",\"cart\",\"directory-data\",\"captcha\",\"instant-purchase\",\"persistent\",\"review\",\"wishlist\",\"helpdesk\",\"recently_viewed_product\",\"recently_compared_product\",\"product_data_storage\"]            }\\n        }\\n    }\\n</script>\\n<script type=\"text/x-magento-init\">\\n    {\\n        \"*\": {\\n            \"Magento_Customer/js/customer-data\": {\\n                \"sectionLoadUrl\": \"https\\\\u003A\\\\u002F\\\\u002Fholland2stay.com\\\\u002Fcustomer\\\\u002Fsection\\\\u002Fload\\\\u002F\",\\n                \"expirableSectionLifetime\": 60,\\n                \"expirableSectionNames\": [\"cart\",\"persistent\"],\\n                \"cookieLifeTime\": \"28800\",\\n                \"updateSessionUrl\": \"https\\\\u003A\\\\u002F\\\\u002Fholland2stay.com\\\\u002Fcustomer\\\\u002Faccount\\\\u002FupdateSession\\\\u002F\"\\n            }\\n        }\\n    }\\n</script>\\n<script type=\"text/x-magento-init\">\\n    {\\n        \"*\": {\\n            \"Magento_Customer/js/invalidation-processor\": {\\n                \"invalidationRules\": {\\n                    \"website-rule\": {\\n                        \"Magento_Customer/js/invalidation-rules/website-rule\": {\\n                            \"scopeConfig\": {\\n                                \"websiteId\": \"1\"\\n                            }\\n                        }\\n                    }\\n                }\\n            }\\n        }\\n    }\\n</script>\\n<script type=\"text/x-magento-init\">\\n    {\\n        \"body\": {\\n            \"pageCache\": {\"url\":\"https:\\\\/\\\\/holland2stay.com\\\\/page_cache\\\\/block\\\\/render\\\\/id\\\\/7\\\\/?available_to_book=179\",\"handles\":[\"default\",\"catalog_category_view\",\"catalog_category_view_type_layered\",\"catalog_category_view_type_layered_without_children\",\"catalog_category_view_displaymode_products_and_page\",\"catalog_category_view_id_7\"],\"originalRequest\":{\"route\":\"catalog\",\"controller\":\"category\",\"action\":\"view\",\"uri\":\"\\\\/residences.html?available_to_book=179\"},\"versionCookieName\":\"private_content_version\"}        }\\n    }\\n</script>\\n<script type=\"text/x-magento-init\">\\n    {\\n        \"body\": {\\n            \"requireCookie\": {\"noCookieUrl\":\"https:\\\\/\\\\/holland2stay.com\\\\/cookie\\\\/index\\\\/noCookies\\\\/\",\"triggers\":[\".action.tocompare\"],\"isRedirectCmsPage\":true}        }\\n    }\\n</script>\\n</div></div></main><footer class=\"page-footer\"><div class=\"footer content\">\\n</div><div class=\"container\">\\n  <div class=\"row\">\\n    <div class=\"col-md-12 col-lg-7\">\\n      <div class=\"row\">\\n        <div class=\"col-md-4 col-lg-4\">\\n          <div class=\"footer-widget\">\\n            <h4 class=\"ftr-title t\">Explore</h4>\\r\\n<ul class=\"ftr-nav\">\\r\\n<li><a href=\"https://holland2stay.com/our-story/\">About Holland2Stay</a></li>\\r\\n<li><a href=\"https://holland2stay.com/residences.html/\">All residences</a></li>\\r\\n<li><a href=\"https://holland2stay.com/services/\">Services</a></li>\\r\\n<li><a href=\"https://holland2stay.com/blog/\">Blog</a></li>\\r\\n<li><a href=\"https://holland2stay.com/faq.html\">FAQs</a></li>\\r\\n<li><a href=\"https://holland2stay.com/coming-soon/\">Upcoming projects</a></li>\\r\\n<li><a href=\"https://holland2stay.com/terms-and-conditions/\">Terms and Conditions</a></li>\\r\\n<li><a href=\"https://holland2stay.com/privacy-statement/\">Privacy statement</a></li>\\r\\n</ul>          </div>\\n        </div>\\n        <div class=\"col-md-8 col-lg-8\">\\n          <div class=\"footer-widget\">\\n            <h4 class=\"ftr-title\">Our locations</h4>\\r\\n<ul class=\"ftr-nav location-nav d-flex flex-wrap\">\\r\\n<li text-transform=\"capitalize\"><a href=\"https://holland2stay.com/arnhem/\" rel=\"noopener\">Arnhem</a></li>\\r\\n<li><a href=\"https://holland2stay.com/amsterdam/\" rel=\"noopener\">Amsterdam</a></li>\\r\\n<li><a href=\"https://holland2stay.com/capelle-a-d-ijssel/\" rel=\"noopener\">Capelle a/d IJssel</a></li>\\r\\n<li><a href=\"https://holland2stay.com/delft /\" rel=\"noopener\">Delft</a></li>\\r\\n<li><a href=\"https://holland2stay.com/denbosch/\" rel=\"noopener\">Den Bosch</a></li>\\r\\n<li><a href=\"https://holland2stay.com/den-haag/\" rel=\"noopener\">Den Haag</a></li>\\r\\n<li><a href=\"https://holland2stay.com/diemen/\" rel=\"noopener\">Diemen</a></li>\\r\\n<li><a href=\"https://holland2stay.com/dordrecht/\" rel=\"noopener\">Dordrecht</a></li>\\r\\n<li><a href=\"https://holland2stay.com/eindhoven/\" rel=\"noopener\">Eindhoven</a></li>\\r\\n<li><a href=\"https://holland2stay.com/groningen/\" rel=\"noopener\">Groningen</a></li>\\r\\n<li><a href=\"https://holland2stay.com/haarlem/\" rel=\"noopener\">Haarlem</a></li>\\r\\n<li><a href=\"https://holland2stay.com/helmond/\" rel=\"noopener\">Helmond</a></li>\\r\\n<li><a href=\"https://holland2stay.com/building-boomerang/\" rel=\"noopener\">Maarssen</a></li>\\r\\n<li><a href=\"https://holland2stay.com/maastricht/\" rel=\"noopener\">Maastricht</a></li>\\r\\n<li><a href=\"https://holland2stay.com/nieuwegein/\" rel=\"noopener\">Nieuwegein</a></li>\\r\\n<li><a href=\"https://holland2stay.com/rotterdam/\" rel=\"noopener\">Rotterdam</a></li>\\r\\n<li><a href=\"https://holland2stay.com/sittard/\" rel=\"noopener\">Sittard</a></li>\\r\\n<li><a href=\"https://holland2stay.com/tilburg/\" rel=\"noopener\">Tilburg</a></li>\\r\\n<li><a href=\"https://holland2stay.com/utrecht/\" rel=\"noopener\">Utrecht</a></li>\\r\\n<li><a href=\"https://holland2stay.com/waalre/\" rel=\"noopener\">Waalre</a></li>\\r\\n<li><a href=\"https://holland2stay.com/zeist/\" rel=\"noopener\">Zeist</a></li>\\r\\n<li><a href=\"https://holland2stay.com/zoetermeer/\" rel=\"noopener\">Zoetermeer</a></li>\\r\\n</ul>          </div>\\n        </div>\\n      </div>\\n    </div>\\n    <div class=\"col-md-3 col-lg-5\">\\n      <div class=\"row\">\\n        <div class=\"col-md-6 col-lg-6\">\\n          <div class=\"footer-widget\">\\n            <h4 class=\"ftr-title\">Follow us</h4>\\n            <ul class=\"ftr-social\">\\n              <li><a target=\"_blank\" rel=\"noopener\" href=\"https://www.facebook.com/Holland2Stay\" class=\"fb-link\"><i class=\"fab fa-facebook-f\">\\n                    <!-- icon -->\\n                  </i></a></li>\\n              <li><a target=\"_blank\" rel=\"noopener\" href=\"https://www.linkedin.com/company/holland2stay/\" class=\"linkedin-link\"><i class=\"fab fa-linkedin\">\\n                    <!-- icon -->\\n                  </i></a></li>\\n              <li><a target=\"_blank\" rel=\"noopener\" href=\"https://www.instagram.com/Holland.2Stay/\" class=\"insta-link\"><i class=\"fab fa-instagram\">\\n                    <!-- icon -->\\n                  </i></a></li>\\n              <li><a target=\"_blank\" rel=\"noopener\" href=\"https://www.youtube.com/channel/UCQcX5oFYS2oxCzwz8CVXgHA\" class=\"youtube-link\"><i class=\"fab fa-youtube\">\\n                    <!-- icon -->\\n                  </i></a></li>\\n            </ul>\\n            <p class=\"contact-free\">Use #ThisisH2S and join the online H2S community!</p>\\n            </div>\\n            <div class=\"footer-widget\" style=\"align-content: center;\">\\n            <!-- TrustBox widget - Micro Review Count -->\\n            <br>\\n            <div style=\"font-size: 20px; max-height: 19px; overflow: hidden; text-align: left; margin-left: -5px; position: relative; width: 141px; display: inline-block;  padding-top: 4px;    vertical-align: text-bottom;\" class=\"trustpilot-widget\" data-locale=\"en-US\" data-template-id=\"5419b6a8b0d04a076446a9ad\" data-businessunit-id=\"5bf95882f13cca0001511efb\" data-style-height=\"100%\" data-style-text-align=\"left\" data-style-width=\"100%\" data-theme=\"dark\">\\n              <a href=\"https://www.trustpilot.com/review/holland2stay.com\" target=\"_blank\" rel=\"noopener\">Trustpilot</a>\\n            </div>\\n\\n            <a target=\"_blank\" href=\"https://www.trustpilot.com/review/holland2stay.com?utm_medium=trustbox&amp;utm_source=MicroReviewCount\"><div id=\"tp-widget-logo\" class=\"tp-widget-logo\" style=\"\\n    display: inline-block;font-size: 13px; line-height: 15px; vertical-align: bottom; width: 80px;\"><div class=\"\">\\n    <div style=\"position: relative; height: 0; width: 100%; padding: 0; padding-bottom: 24.6031746031746%;\">      \\n  <svg role=\"img\" aria-labelledby=\"trustpilotLogo\" viewBox=\"0 0 126 31\" xmlns=\"http://www.w3.org/2000/svg\" style=\"position: absolute;height: 100%;width: 100%;left: 0;top: 0;\">\\n      <title id=\"trustpilotLogo\" style=\"color: #fff;\">Trustpilot</title>\\n      <path class=\"tp-logo__text\" d=\"M33.074774 11.07005H45.81806v2.364196h-5.010656v13.290316h-2.755306V13.434246h-4.988435V11.07005h.01111zm12.198892 4.319629h2.355341v2.187433h.04444c.077771-.309334.222203-.60762.433295-.894859.211092-.287239.466624-.56343.766597-.79543.299972-.243048.633276-.430858.999909-.585525.366633-.14362.744377-.220953 1.12212-.220953.288863 0 .499955.011047.611056.022095.1111.011048.222202.033143.344413.04419v2.408387c-.177762-.033143-.355523-.055238-.544395-.077333-.188872-.022096-.366633-.033143-.544395-.033143-.422184 0-.822148.08838-1.199891.254096-.377744.165714-.699936.41981-.977689.740192-.277753.331429-.499955.729144-.666606 1.21524-.166652.486097-.244422 1.03848-.244422 1.668195v5.39125h-2.510883V15.38968h.01111zm18.220567 11.334883H61.02779v-1.579813h-.04444c-.311083.574477-.766597 1.02743-1.377653 1.369908-.611055.342477-1.233221.51924-1.866497.51924-1.499864 0-2.588654-.364573-3.25526-1.104765-.666606-.740193-.999909-1.856005-.999909-3.347437V15.38968h2.510883v6.948968c0 .994288.188872 1.701337.577725 2.1101.377744.408763.922139.618668 1.610965.618668.533285 0 .96658-.077333 1.322102-.243048.355524-.165714.644386-.37562.855478-.65181.222202-.265144.377744-.596574.477735-.972194.09999-.37562.144431-.784382.144431-1.226288v-6.573349h2.510883v11.323836zm4.27739-3.634675c.07777.729144.355522 1.237336.833257 1.535623.488844.287238 1.06657.441905 1.744286.441905.233312 0 .499954-.022095.799927-.055238.299973-.033143.588836-.110476.844368-.209905.266642-.099429.477734-.254096.655496-.452954.166652-.198857.244422-.452953.233312-.773335-.01111-.320381-.133321-.585525-.355523-.784382-.222202-.209906-.499955-.364573-.844368-.497144-.344413-.121525-.733267-.232-1.17767-.320382-.444405-.088381-.888809-.18781-1.344323-.287239-.466624-.099429-.922138-.232-1.355432-.37562-.433294-.14362-.822148-.342477-1.166561-.596573-.344413-.243048-.622166-.56343-.822148-.950097-.211092-.386668-.311083-.861716-.311083-1.436194 0-.618668.155542-1.12686.455515-1.54667.299972-.41981.688826-.75124 1.14434-1.005336.466624-.254095.97769-.430858 1.544304-.541334.566615-.099429 1.11101-.154667 1.622075-.154667.588836 0 1.15545.066286 1.688736.18781.533285.121524 1.02213.320381 1.455423.60762.433294.276191.788817.640764 1.07768 1.08267.288863.441905.466624.98324.544395 1.612955h-2.621984c-.122211-.596572-.388854-1.005335-.822148-1.204193-.433294-.209905-.933248-.309334-1.488753-.309334-.177762 0-.388854.011048-.633276.04419-.244422.033144-.466624.088382-.688826.165715-.211092.077334-.388854.198858-.544395.353525-.144432.154667-.222203.353525-.222203.60762 0 .309335.111101.552383.322193.740193.211092.18781.488845.342477.833258.475048.344413.121524.733267.232 1.177671.320382.444404.088381.899918.18781 1.366542.287239.455515.099429.899919.232 1.344323.37562.444404.14362.833257.342477 1.17767.596573.344414.254095.622166.56343.833258.93905.211092.37562.322193.850668.322193 1.40305 0 .673906-.155541 1.237336-.466624 1.712385-.311083.464001-.711047.850669-1.199891 1.137907-.488845.28724-1.04435.508192-1.644295.640764-.599946.132572-1.199891.198857-1.788727.198857-.722156 0-1.388762-.077333-1.999818-.243048-.611056-.165714-1.14434-.408763-1.588745-.729144-.444404-.33143-.799927-.740192-1.05546-1.226289-.255532-.486096-.388853-1.071621-.411073-1.745528h2.533103v-.022095zm8.288135-7.700208h1.899828v-3.402675h2.510883v3.402675h2.26646v1.867052h-2.26646v6.054109c0 .265143.01111.486096.03333.684954.02222.18781.07777.353524.155542.486096.07777.132572.199981.232.366633.298287.166651.066285.377743.099428.666606.099428.177762 0 .355523 0 .533285-.011047.177762-.011048.355523-.033143.533285-.077334v1.933338c-.277753.033143-.555505.055238-.811038.088381-.266642.033143-.533285.04419-.811037.04419-.666606 0-1.199891-.066285-1.599855-.18781-.399963-.121523-.722156-.309333-.944358-.552381-.233313-.243049-.377744-.541335-.466625-.905907-.07777-.364573-.13332-.784383-.144431-1.248384v-6.683825h-1.899827v-1.889147h-.02222zm8.454788 0h2.377562V16.9253h.04444c.355523-.662858.844368-1.12686 1.477644-1.414098.633276-.287239 1.310992-.430858 2.055369-.430858.899918 0 1.677625.154667 2.344231.475048.666606.309335 1.222111.740193 1.666515 1.292575.444405.552382.766597 1.193145.9888 1.92229.222202.729145.333303 1.513527.333303 2.3421 0 .762288-.099991 1.50248-.299973 2.20953-.199982.718096-.499955 1.347812-.899918 1.900194-.399964.552383-.911029.98324-1.533194 1.31467-.622166.33143-1.344323.497144-2.18869.497144-.366634 0-.733267-.033143-1.0999-.099429-.366634-.066286-.722157-.176762-1.05546-.320381-.333303-.14362-.655496-.33143-.933249-.56343-.288863-.232-.522175-.497144-.722157-.79543h-.04444v5.656393h-2.510883V15.38968zm8.77698 5.67849c0-.508193-.06666-1.005337-.199981-1.491433-.133321-.486096-.333303-.905907-.599946-1.281527-.266642-.37562-.599945-.673906-.988799-.894859-.399963-.220953-.855478-.342477-1.366542-.342477-1.05546 0-1.855387.364572-2.388672 1.093717-.533285.729144-.799928 1.701337-.799928 2.916578 0 .574478.066661 1.104764.211092 1.59086.144432.486097.344414.905908.633276 1.259432.277753.353525.611056.629716.99991.828574.388853.209905.844367.309334 1.355432.309334.577725 0 1.05546-.121524 1.455423-.353525.399964-.232.722157-.541335.97769-.905907.255531-.37562.444403-.79543.555504-1.270479.099991-.475049.155542-.961145.155542-1.458289zm4.432931-9.99812h2.510883v2.364197h-2.510883V11.07005zm0 4.31963h2.510883v11.334883h-2.510883V15.389679zm4.755124-4.31963h2.510883v15.654513h-2.510883V11.07005zm10.210184 15.963847c-.911029 0-1.722066-.154667-2.433113-.452953-.711046-.298287-1.310992-.718097-1.810946-1.237337-.488845-.530287-.866588-1.160002-1.12212-1.889147-.255533-.729144-.388854-1.535622-.388854-2.408386 0-.861716.133321-1.657147.388853-2.386291.255533-.729145.633276-1.35886 1.12212-1.889148.488845-.530287 1.0999-.93905 1.810947-1.237336.711047-.298286 1.522084-.452953 2.433113-.452953.911028 0 1.722066.154667 2.433112.452953.711047.298287 1.310992.718097 1.810947 1.237336.488844.530287.866588 1.160003 1.12212 1.889148.255532.729144.388854 1.524575.388854 2.38629 0 .872765-.133322 1.679243-.388854 2.408387-.255532.729145-.633276 1.35886-1.12212 1.889147-.488845.530287-1.0999.93905-1.810947 1.237337-.711046.298286-1.522084.452953-2.433112.452953zm0-1.977528c.555505 0 1.04435-.121524 1.455423-.353525.411074-.232.744377-.541335 1.01102-.916954.266642-.37562.455513-.806478.588835-1.281527.12221-.475049.188872-.961145.188872-1.45829 0-.486096-.066661-.961144-.188872-1.44724-.122211-.486097-.322193-.905907-.588836-1.281527-.266642-.37562-.599945-.673907-1.011019-.905907-.411074-.232-.899918-.353525-1.455423-.353525-.555505 0-1.04435.121524-1.455424.353525-.411073.232-.744376.541334-1.011019.905907-.266642.37562-.455514.79543-.588835 1.281526-.122211.486097-.188872.961145-.188872 1.447242 0 .497144.06666.98324.188872 1.458289.12221.475049.322193.905907.588835 1.281527.266643.37562.599946.684954 1.01102.916954.411073.243048.899918.353525 1.455423.353525zm6.4883-9.66669h1.899827v-3.402674h2.510883v3.402675h2.26646v1.867052h-2.26646v6.054109c0 .265143.01111.486096.03333.684954.02222.18781.07777.353524.155541.486096.077771.132572.199982.232.366634.298287.166651.066285.377743.099428.666606.099428.177762 0 .355523 0 .533285-.011047.177762-.011048.355523-.033143.533285-.077334v1.933338c-.277753.033143-.555505.055238-.811038.088381-.266642.033143-.533285.04419-.811037.04419-.666606 0-1.199891-.066285-1.599855-.18781-.399963-.121523-.722156-.309333-.944358-.552381-.233313-.243049-.377744-.541335-.466625-.905907-.07777-.364573-.133321-.784383-.144431-1.248384v-6.683825h-1.899827v-1.889147h-.02222z\" fill=\"#191919\" style=\"\\n    fill: #fff;\\n\"></path>\\n      <path class=\"tp-logo__star\" fill=\"#00B67A\" d=\"M30.141707 11.07005H18.63164L15.076408.177071l-3.566342 10.892977L0 11.059002l9.321376 6.739063-3.566343 10.88193 9.321375-6.728016 9.310266 6.728016-3.555233-10.88193 9.310266-6.728016z\"></path>\\n      <path class=\"tp-logo__star-notch\" fill=\"#005128\" d=\"M21.631369 20.26169l-.799928-2.463625-5.755033 4.153914z\"></path>\\n  </svg>\\n    </div>\\n  </div></div></a>\\n            <!-- End TrustBox widget -->\\n          </div>\\n\\n        </div>\\n        <div class=\"col-md-6 col-lg-6\">\\n          <div class=\"footer-widget\">\\n            <h4 class=\"ftr-title\">Contact us</h4>\\n            <p class=\"contact-free\">Feel free to contact us and say hi!</p>\\n            <ul class=\"ftr-contact\">\\n              <li><a href=\"tel:+310851305500\">+31 (0)85 130 55 00</a></li>\\n              <li><a href=\"mailto:info@holland2stay.com\">info@holland2stay.com</a></li>\\n            </ul>\\n            <button class=\"btn btn-style \">contact page</button>\\n          </div>\\n        </div>\\n      </div>\\n    </div>\\n  </div>\\n</div>\\n<a id=\"gotop-btn\"><i class=\"fas fa-chevron-up\"></i></a>\\n<div class=\"modal fade show\" id=\"help\" tabindex=\"-1\" role=\"dialog\" aria-labelledby=\"exampleModalLabel\" aria-modal=\"true\">\\n  <div class=\"modal-dialog\" role=\"document\">\\n    <div class=\"modal-content\">\\n      <div class=\"modal-body\">\\n        <button type=\"button\" class=\"close\" data-dismiss=\"modal\" aria-label=\"Close\">\\n          <span aria-hidden=\"true\">×</span>\\n        </button>\\n        <h4 style=\"font-size: 16px;\">Not sure how to book? We are here to help!</h4>\\r\\n<!--<div class=\"help-video\"><img src=\"https://holland2stay.com/static/version1662101656/frontend/Holland/newtheme/en_US/images/help-video.jpg\"></div>-->\\r\\n<p style=\"font-size: 14px;\">Our booking process is easy, safe and entirely online, from the moment you start browsing through our offer to the moment you sign the rental agreement. We aim to offer you a stress-free booking experience that can be arranged quickly and remotely from anywhere in the world.</p>\\r\\n<p style=\"font-size: 14px;\"><strong>CONTRACT TYPES</strong> <br>We offer three types of rental contracts. The type of contract depends on the building and will be mentioned with each of our listing as well. Below we explain each type of contract.</p>\\r\\n<p style=\"font-size: 14px;\"><strong>Short-stay:</strong> Recommended for when you are seeking a residence for a temporary stay. When a residence offers a short-stay contract, it means you can stay 3 months to 1 year maximum, with a minimum stay of 1 month. The maximum time you can stay differs per building and depends on the requirements you meet. This is because of certain tax rules, which we have to comply with. A short-stay contract is especially handy if you seek accommodation for a short time or for an in-between solution!</p>\\r\\n<p style=\"font-size: 14px;\"><strong>Regular:</strong> Our long term rentals! If your residence offers a regular contract, it means that, you can stay for an indefinite amount of period, with a minimum stay of 3 to 12 months. The required minimum stay period differs per city and building, so we advice you to carefully read through the listing of the residence, and your contract when you have already booked.</p>\\r\\n<p style=\"font-size: 14px;\"><strong>Student only:</strong> A campus contract is a rental agreement for residences intended for students. This contract specifies that you can only live in this accommodation if you are a student, and until your study ends. We need a copy of your valid passport and a current proof of enrolment of your university to accept you as a tenant. If you are not a student anymore, in case of graduating or other reasons, please notify us from which date and you will be given an end date of 6 months from that time.</p>\\r\\n<p style=\"font-size: 14px;\"><strong>HOW TO BOOK</strong> <br>Did you find a residence you like? If you want to book something with us, you need an account on our website. You can register for an account <a href=\"https://holland2stay.com/customer/account/create/\">here</a>. You have to pay a one-time registration fee of €26.50 that is non refundable. We have three different kinds of availability statuses. Let us guide you through the availability labels!</p>\\r\\n<p style=\"font-size: 14px;\"><img src=\"https://holland2stay.com/media/images/rented.PNG\" alt=\"rented icon\"> This means that the residence is currently ocupied. You can still click on the label for more information.</p>\\r\\n<p style=\"font-size: 14px;\"><img src=\"https://holland2stay.com/media/images/book_directly.png\" alt=\"book directly icon\"> This means that the residence is available to book directly. You don’t have to sign up for a waiting list or participate in the lottery. If you fulfil the (income) requirements and pay the required fees (i.e. deposit and first month’s rent), the residence is yours. Be sure to check the requirements before making your booking.</p>\\r\\n<p style=\"font-size: 14px;\"><img src=\"https://holland2stay.com/media/images/lottery.PNG\" alt=\"lottery icon\"> This means that the residence is available in our weekly lottery. The lottery runs from Tuesday 7 PM until Sunday 8 AM. On Monday, a person from the lotery is automaticaly selected, completely at random. You will receive a notice if you are selected or not. If you win the lottery, you get 24 hours to book the residence.</p>\\r\\n<p style=\"font-size: 14px;\">To confirm your booking, we ask you to make a down payment of €200, that is part of your deposit. Please read our <a href=\"https://holland2stay.com/terms-and-conditions/\">Terms and Conditions</a> to understand our cancellation policy. When the booking as been placed, we will verify your details and contact you about the next steps!</p>\\r\\n<p style=\"font-size: 14px;\">Do you want more information? See our <a href=\"https://holland2stay.com/how-to-book/\">How to book</a> page.</p>\\n      </div>\\n    </div>\\n  </div>\\n</div>\\n<script>\\n  require([\\'jquery\\', \\'owlcarousel\\'], function($) {\\n    $(window).scroll(function() {\\n      if ($(window).scrollTop() > 300) {\\n        $(\\'#gotop-btn\\').addClass(\\'show\\');\\n      } else {\\n        $(\\'#gotop-btn\\').removeClass(\\'show\\');\\n      }\\n    });\\n\\n    $(\\'#gotop-btn\\').on(\\'click\\', function(e) {\\n      e.preventDefault();\\n      $(\\'html, body\\').animate({\\n        scrollTop: 0\\n      }, \\'5000\\');\\n    });\\n\\n    $(\".moreless-btn\").click(function(e) {\\n      e.preventDefault();\\n      if ($(\".moreless-content\").hasClass(\"less-content\")) {\\n        $(\".moreless-content\").removeClass(\"less-content\");\\n        $(\".moreless-btn\").text(\"Show less cities\");\\n      } else {\\n        $(\".moreless-content\").addClass(\"less-content\");\\n        $(\".moreless-btn\").text(\"Show all cities\");\\n      }\\n      $(\".moreless-btn\").toggleClass(\"view\");\\n      $(\".moreless-btn span\").toggle();\\n    });\\n\\n    $(\".arti-img,.clickable,.service-img,.ab-img\").click(function() {\\n      var url = $(this).data(\\'url\\');\\n      if (typeof url !== \"undefined\") {\\n        location.href = \"https://holland2stay.com/\" + url;\\n      } else {\\n        var url2 = $(this).find(\"a\").attr(\"href\");\\n        location.href = url2;\\n      }\\n    });\\n\\n    $(\".footer-widget button\").click(function(e) {\\n      window.location.href = \"https://holland2stay.com/contact/\";\\n    });\\n\\n    $(\\'.owl-carousel\\').owlCarousel({\\n      loop: true,\\n      margin: 10,\\n      autoplay: true,\\n      autoplayTimeout: 3000,\\n      nav: true,\\n      responsive: {\\n        0: {\\n          items: 2\\n        },\\n        600: {\\n          items: 3\\n        },\\n        1000: {\\n          items: 4\\n        },\\n        1060: {\\n          items: 5\\n        },\\n        1300: {\\n          items: 6\\n        }\\n      }\\n    })\\n\\n  });\\n</script>\\n<style type=\"text/css\">\\n  .trustpilot-widget iframe {\\n    max-width: 140px;\\n    width: 140px;\\n}\\n\\n</style></footer><script type=\"text/x-magento-init\">\\n        {\\n            \"*\": {\\n                \"Magento_Ui/js/core/app\": {\\n                    \"components\": {\\n                        \"storage-manager\": {\\n                            \"component\": \"Magento_Catalog/js/storage-manager\",\\n                            \"appendTo\": \"\",\\n                            \"storagesConfiguration\" : {\"recently_viewed_product\":{\"requestConfig\":{\"syncUrl\":\"https:\\\\/\\\\/holland2stay.com\\\\/catalog\\\\/product\\\\/frontend_action_synchronize\\\\/\"},\"lifetime\":\"1000\",\"allowToSendRequest\":null},\"recently_compared_product\":{\"requestConfig\":{\"syncUrl\":\"https:\\\\/\\\\/holland2stay.com\\\\/catalog\\\\/product\\\\/frontend_action_synchronize\\\\/\"},\"lifetime\":\"1000\",\"allowToSendRequest\":null},\"product_data_storage\":{\"updateRequestConfig\":{\"url\":\"https:\\\\/\\\\/holland2stay.com\\\\/rest\\\\/en\\\\/V1\\\\/products-render-info\"},\"requestConfig\":{\"syncUrl\":\"https:\\\\/\\\\/holland2stay.com\\\\/catalog\\\\/product\\\\/frontend_action_synchronize\\\\/\"},\"allowToSendRequest\":null}}                        }\\n                    }\\n                }\\n            }\\n        }\\n</script>\\n<script type=\"text/javascript\">\\n    require([\\'jquery\\'], function ($) {\\n        var recaptcha = [],\\n            formsToProtect = \\'form\\\\u005Baction\\\\u002A\\\\u003D\\\\u0022helpdesk\\\\u002Fform\\\\u002Fpost\\\\u0022\\\\u005D,form\\\\u005Baction\\\\u002A\\\\u003D\\\\u0022catalog\\\\u002Fopenhouse\\\\u002Findex\\\\u0022\\\\u005D,form\\\\u005Baction\\\\u002A\\\\u003D\\\\u0022customer\\\\u002Faccount\\\\u002Fcreatepost\\\\u0022\\\\u005D,form\\\\u005Baction\\\\u002A\\\\u003D\\\\u0022customer\\\\u002Faccount\\\\u002FloginPost\\\\u0022\\\\u005D,form\\\\u005Baction\\\\u002A\\\\u003D\\\\u0022newsletter\\\\u002Fsubscriber\\\\u002Fnew\\\\u0022\\\\u005D,form\\\\u005Baction\\\\u002A\\\\u003D\\\\u0022contact\\\\u002Findex\\\\u002Fpost\\\\u0022\\\\u005D,form\\\\u005Baction\\\\u002A\\\\u003D\\\\u0022customer\\\\u002Faccount\\\\u002Fforgotpasswordpost\\\\u0022\\\\u005D,form\\\\u005Baction\\\\u002A\\\\u003D\\\\u0022review\\\\u002Fproduct\\\\u002Fpost\\\\u0022\\\\u005D,form\\\\u005Baction\\\\u002A\\\\u003D\\\\u0022customer\\\\u002Faccount\\\\u002Fresetpasswordpost\\\\u0022\\\\u005D\\';\\n\\n        window.formToProtectOnPage = [];\\n        $.each($(formsToProtect), function (index, formToProtect) {\\n            window.formToProtectOnPage.push(formToProtect);\\n        });\\n\\n        if (window.formToProtectOnPage.length) {\\n            var recaptchaScript = document.createElement(\\'script\\');\\n            recaptchaScript.src = \\'https://www.google.com/recaptcha/api.js?onload=amInvisibleCaptchaOnloadCallback&render=explicit&amp;hl=en\\';\\n            recaptchaScript.attributes = \\'async defer\\';\\n            document.body.appendChild(recaptchaScript);\\n        }\\n\\n        window.amInvisibleCaptchaOnloadCallback = function () {\\n            for (var i = 0; i < window.formToProtectOnPage.length; i++) {\\n                var tokenInput = document.createElement(\\'input\\');\\n                tokenInput.type = \\'hidden\\';\\n                tokenInput.name = \\'amasty_invisible_token\\';\\n                window.formToProtectOnPage[i].appendChild(tokenInput);\\n            }\\n\\n            var id = \"\";\\n            if (id) {\\n                var additionalForm = document.getElementById(id).form;\\n                if (additionalForm) {\\n                    window.formToProtectOnPage.push(additionalForm);\\n                }\\n            }\\n\\n            var renderCaptcha = function(event, form, id) {\\n                recaptcha[i] = grecaptcha.render(id, {\\n                    \\'theme\\': \\'light\\',\\n                    \\'badge\\': \\'bottomright\\',\\n                    \\'sitekey\\': \\'6LecrfYUAAAAACd36LJk22JEF0OkvSz4uG3L1Cs9\\',\\n                    \\'callback\\': function(token) {\\n                        if ($(form).valid()) {\\n                            form.querySelector(\"[name=\\'amasty_invisible_token\\']\").setAttribute(\\'value\\', token);\\n                            $(form).submit();\\n                        }\\n                        for (var j = 0; j < recaptcha.length; j++) {\\n                            grecaptcha.reset(recaptcha[j]);\\n                        }\\n                    }\\n                });\\n            };\\n\\n            for (var i = 0; i < window.formToProtectOnPage.length; i++) {\\n                var form = window.formToProtectOnPage[i];\\n                if (form.tagName.toLowerCase() != \\'form\\') {\\n                    continue;\\n                }\\n\\n                id = form.querySelector(\"[type=\\'submit\\']\");\\n                if (null == id) {\\n                    if (form.classList.contains(\\'amform-form\\')) {\\n                        $(window).on(form.getAttribute(\\'id\\'), renderCaptcha);\\n                    } else {\\n                        console.log(\\n                            \\'Amsty Google Invisible reCaptcha: can not protect form with id = \\'\\n                            + form.id\\n                            + \\', please remove appropriate URL and Selector in the configuration of the extension.\\'\\n                        );\\n                    }\\n                    continue;\\n                }\\n\\n                renderCaptcha(null, form, id);\\n            }\\n        };\\n    });\\n</script>\\n<!-- Facebook Pixel Code -->\\n<script>\\n!function(f,b,e,v,n,t,s){if(f.fbq)return;n=f.fbq=function(){n.callMethod?\\nn.callMethod.apply(n,arguments):n.queue.push(arguments)};if(!f._fbq)f._fbq=n;\\nn.push=n;n.loaded=!0;n.version=\\'2.0\\';n.agent=\\'dvapptrian\\';n.queue=[];\\nt=b.createElement(e);t.async=!0;t.src=v;s=b.getElementsByTagName(e)[0];\\ns.parentNode.insertBefore(t,s)}(window,\\ndocument,\\'script\\',\\'https://connect.facebook.net/en_US/fbevents.js\\');\\n\\n                    fbq(\\'init\\', \\'430244574482727\\');\\n            \\n</script>\\n<noscript>\\n    <img height=\"1\" width=\"1\" style=\"display:none\" \\nalt=\"Facebook Pixel 430244574482727\" \\nsrc=\"https://www.facebook.com/tr?id=430244574482727&ev=PageView&noscript=1\"/>\\n    </noscript>\\n\\n<script>\\n\\n// Track PageView on all pages as soon as possible\\nfbq(\\'track\\', \\'PageView\\');\\n\\nrequire([\\n    \\'jquery\\',\\n    \\'underscore\\'\\n], function ($, _) {\\n    \\n    $(function () {\\n    \\n        function moveParamsOutsideContents(data) {\\n            var isMoveParamsOutsideContentsEnabled = 1;\\n                \\n            if (isMoveParamsOutsideContentsEnabled) {\\n                if (!(\\'contents\\' in data)) {\\n                    return data;\\n                }\\n                \\n                var contents       = data[\\'contents\\'];\\n                var contentsLength = contents.length;\\n                \\n                if (contentsLength > 1) {\\n                    var c = 0;\\n                    for (i = 0; i < contentsLength; i++) {\\n                        var item = contents[i];\\n                        \\n                        for (var index in item) {\\n                            if (index == \\'id\\' || index == \\'item_price\\' || index == \\'quantity\\') {\\n                                continue;\\n                            }\\n                            \\n                            // You cannot do anything with param just\\n                            // Remove the param from contents\\n                            delete data[\\'contents\\'][c][index];\\n                        }\\n                        \\n                        c++;\\n                    }\\n                } else {\\n                    var item = contents[0];\\n                    for (var index in item) {\\n                        var value = item[index];\\n                        if (index == \\'id\\' || index == \\'item_price\\' || index == \\'quantity\\') {\\n                            continue;\\n                        }\\n                        \\n                        // Set the param\\n                        data[index] = value;\\n                        // Remove the param from contents\\n                        delete data[\\'contents\\'][0][index];\\n                    }\\n                }\\n                \\n                return data;\\n            } else {\\n                return data;\\n            }\\n        }\\n        \\n                    \\n    });\\n});\\n</script>\\n<!-- End Facebook Pixel Code -->\\n\\n    </div>    </body>\\n</html>\\n'"
     },
     "execution_count": 8,
     "metadata": {},
     "output_type": "execute_result"
    }
   ],
   "source": [
    "response.text"
   ],
   "metadata": {
    "collapsed": false,
    "pycharm": {
     "name": "#%%\n"
    }
   }
  },
  {
   "cell_type": "code",
   "execution_count": null,
   "outputs": [],
   "source": [],
   "metadata": {
    "collapsed": false,
    "pycharm": {
     "name": "#%%\n"
    }
   }
  },
  {
   "cell_type": "code",
   "execution_count": 93,
   "outputs": [],
   "source": [
    "htmls = etree.HTML(response.text)"
   ],
   "metadata": {
    "collapsed": false,
    "pycharm": {
     "name": "#%%\n"
    }
   }
  },
  {
   "cell_type": "code",
   "execution_count": 114,
   "outputs": [
    {
     "name": "stdout",
     "output_type": "stream",
     "text": [
      "['102.00', '40.00']\n"
     ]
    }
   ],
   "source": [],
   "metadata": {
    "collapsed": false,
    "pycharm": {
     "name": "#%%\n"
    }
   }
  },
  {
   "cell_type": "code",
   "execution_count": 112,
   "outputs": [
    {
     "data": {
      "text/plain": "['102.00', '40.00']"
     },
     "execution_count": 112,
     "metadata": {},
     "output_type": "execute_result"
    }
   ],
   "source": [],
   "metadata": {
    "collapsed": false,
    "pycharm": {
     "name": "#%%\n"
    }
   }
  },
  {
   "cell_type": "code",
   "execution_count": 118,
   "outputs": [
    {
     "name": "stdout",
     "output_type": "stream",
     "text": [
      "['€1,380.00', '€1,253.00']\n",
      "['102.00', '40.00']\n",
      "['Unfurnished', 'Unfurnished'] ['Floor 1', 'Floor 3'] ['73.1 m2 ', '85 m2 '] ['Bedrooms: 2 ', 'Bedrooms: 2 '] ['Max occupancy: Two', 'Max occupancy: Family (parents with children)'] ['Contract type: Indefinite', 'Contract type: Indefinite'] ['Minimum stay: 12 Months', 'Minimum stay: 12 Months']\n",
      "['Amsterdam', 'Maastricht']\n",
      "['Twin 1', 'Amonet']\n",
      "['Jan van Zutphenstraat 761 ', 'Busschuttenpoort 4 D 05 ']\n",
      "[' BOOK DIRECTLY', ' BOOK DIRECTLY']\n",
      "['Available from 03 Oct, 2022', 'Available from 12 Oct, 2022']\n"
     ]
    }
   ],
   "source": [
    "rent = htmls.xpath('//*[@id=\"layer-product-list\"]/div[2]/div/div[3]/div/div/text()')\n",
    "print(rent)\n",
    "\n",
    "notes = htmls.xpath('//*[@id=\"layer-product-list\"]/div[2]/div/div[3]/p/text()')\n",
    "# print(notes)\n",
    "ls_othercost = []\n",
    "for ele in notes:\n",
    "    ls_othercost.append(re.findall(r\"\\d+\\.?\\d*\",str(ele)))\n",
    "ls_othercost = list(np.ravel(ls_othercost))\n",
    "print(ls_othercost)\n",
    "\n",
    "\n",
    "for i in range(1,8,1):\n",
    "    basic_path = '//*[@id=\"layer-product-list\"]/div[2]/div/div[2]/ul[2]/li[{}]/text()'.format(i)\n",
    "    if i == 1:\n",
    "        furnish = htmls.xpath(basic_path)\n",
    "    elif i ==2:\n",
    "        floor = htmls.xpath(basic_path)\n",
    "    elif i ==3:\n",
    "        size = htmls.xpath(basic_path)\n",
    "    elif i ==4:\n",
    "        type = htmls.xpath(basic_path)\n",
    "    elif i ==5:\n",
    "        occupancy = htmls.xpath(basic_path)\n",
    "    elif i ==6:\n",
    "        contract = htmls.xpath(basic_path)\n",
    "    elif i ==7:\n",
    "        min_stay = htmls.xpath(basic_path)\n",
    "print(furnish,floor,size,type,occupancy,contract,min_stay)\n",
    "\n",
    "\n",
    "city = htmls.xpath('//*[@id=\"layer-product-list\"]/div[2]/div/div[2]/ul[1]/li[2]/span/text()')\n",
    "print(city)\n",
    "\n",
    "building = htmls.xpath('//*[@id=\"layer-product-list\"]/div[2]/div/div[2]/ul[1]/li[3]/span/text()')\n",
    "print(building)\n",
    "\n",
    "address = htmls.xpath('//*[@id=\"layer-product-list\"]/div[2]/div/div[2]/div/h4/text()[1]')\n",
    "print(address)\n",
    "\n",
    "book = htmls.xpath(\"//*[@id='layer-product-list']/div[2]/div/div[2]/div/h4/span[@class='direct-tag']/text()[1]\")\n",
    "print(book)\n",
    "\n",
    "available = htmls.xpath('//*[@id=\"layer-product-list\"]/div[2]/div/div[2]/ul[1]/li[1]/strong/text()')\n",
    "print(available)\n",
    "\n",
    "\n",
    "# //*[@id=\"layer-product-list\"]/div[2]/div/div[2]/div/h4/span\n",
    "# //*[@id=\"layer-product-list\"]/div[2]/div/div[3]/div/div\n",
    "# //*[@id=\"layer-product-list\"]/div[2]/div/div[3]/p\n",
    "# //*[@id=\"layer-product-list\"]/div[2]/div/div[2]/ul[2]/li[1]\n",
    "# //*[@id=\"layer-product-list\"]/div[2]/div/div[2]/div/h4\n",
    "# //*[@id=\"layer-product-list\"]/div[2]/div/div[2]/ul[2]/li[2]\n",
    "# //*[@id=\"layer-product-list\"]/div[2]/div/div[2]/ul[1]/li[2]/span\n",
    "\n"
   ],
   "metadata": {
    "collapsed": false,
    "pycharm": {
     "name": "#%%\n"
    }
   }
  },
  {
   "cell_type": "code",
   "execution_count": 140,
   "outputs": [
    {
     "name": "stdout",
     "output_type": "stream",
     "text": [
      "                           地址          城市    建筑名字       楼层        面积  \\\n",
      "0  Jan van Zutphenstraat 761    Amsterdam  Twin 1  Floor 1  73.1 m2    \n",
      "1    Busschuttenpoort 4 D 05   Maastricht  Amonet  Floor 3    85 m2    \n",
      "\n",
      "        基本房租    其他费用           装修          房间数量  \\\n",
      "0  €1,380.00  102.00  Unfurnished  Bedrooms: 2    \n",
      "1  €1,253.00   40.00  Unfurnished  Bedrooms: 2    \n",
      "\n",
      "                                            居住人数                       合同类型  \\\n",
      "0                             Max occupancy: Two  Contract type: Indefinite   \n",
      "1  Max occupancy: Family (parents with children)  Contract type: Indefinite   \n",
      "\n",
      "                       不少于             抽奖吗                         开始时间  \n",
      "0  Minimum stay: 12 Months   BOOK DIRECTLY  Available from 03 Oct, 2022  \n",
      "1  Minimum stay: 12 Months   BOOK DIRECTLY  Available from 12 Oct, 2022  \n"
     ]
    }
   ],
   "source": [
    "dic = {'地址': address, '城市': city, '建筑名字': building, '楼层': floor,\n",
    "       '面积': size, '基本房租': rent, '其他费用': ls_othercost,\n",
    "       '装修':furnish, '房间数量':type, '居住人数':occupancy,\n",
    "       '合同类型':contract, '不少于':min_stay, '抽奖吗':book,\n",
    "       '开始时间':available}\n",
    "df = pd.DataFrame(dic)\n",
    "print(df)"
   ],
   "metadata": {
    "collapsed": false,
    "pycharm": {
     "name": "#%%\n"
    }
   }
  },
  {
   "cell_type": "code",
   "execution_count": null,
   "outputs": [],
   "source": [],
   "metadata": {
    "collapsed": false,
    "pycharm": {
     "name": "#%%\n"
    }
   }
  },
  {
   "cell_type": "code",
   "execution_count": 142,
   "outputs": [],
   "source": [
    "'''pretty table'''\n",
    "llss = [address,city,building,floor,size,\n",
    "        rent,ls_othercost,furnish,type,occupancy,\n",
    "        contract,min_stay,book,available]\n",
    "\n",
    "colnames = [\n",
    "    '地址',\n",
    "    '城市',\n",
    "    '建筑名字',\n",
    "    '楼层',\n",
    "    '面积',\n",
    "    '基本房租',\n",
    "    '其他费用',\n",
    "    '装修',\n",
    "    '房间数量',\n",
    "    '居住人数',\n",
    "    '合同类型',\n",
    "    '不少于',\n",
    "    '抽奖吗',\n",
    "    '开始时间'\n",
    "]"
   ],
   "metadata": {
    "collapsed": false,
    "pycharm": {
     "name": "#%%\n"
    }
   }
  },
  {
   "cell_type": "code",
   "execution_count": 144,
   "outputs": [
    {
     "data": {
      "text/plain": "[('地址', ['Jan van Zutphenstraat 761 ', 'Busschuttenpoort 4 D 05 ']),\n ('城市', ['Amsterdam', 'Maastricht']),\n ('建筑名字', ['Twin 1', 'Amonet']),\n ('楼层', ['Floor 1', 'Floor 3']),\n ('面积', ['73.1 m2 ', '85 m2 ']),\n ('基本房租', ['€1,380.00', '€1,253.00']),\n ('其他费用', ['102.00', '40.00']),\n ('装修', ['Unfurnished', 'Unfurnished']),\n ('房间数量', ['Bedrooms: 2 ', 'Bedrooms: 2 ']),\n ('居住人数',\n  ['Max occupancy: Two', 'Max occupancy: Family (parents with children)']),\n ('合同类型', ['Contract type: Indefinite', 'Contract type: Indefinite']),\n ('不少于', ['Minimum stay: 12 Months', 'Minimum stay: 12 Months']),\n ('抽奖吗', [' BOOK DIRECTLY', ' BOOK DIRECTLY']),\n ('开始时间', ['Available from 03 Oct, 2022', 'Available from 12 Oct, 2022'])]"
     },
     "execution_count": 144,
     "metadata": {},
     "output_type": "execute_result"
    }
   ],
   "source": [
    "combo = [*zip(colnames,llss)]\n",
    "combo"
   ],
   "metadata": {
    "collapsed": false,
    "pycharm": {
     "name": "#%%\n"
    }
   }
  },
  {
   "cell_type": "code",
   "execution_count": 145,
   "outputs": [
    {
     "data": {
      "text/plain": "+------+------+----------+------+------+----------+----------+------+----------+----------+----------+--------+--------+----------+\n| 地址 | 城市 | 建筑名字 | 楼层 | 面积 | 基本房租 | 其他费用 | 装修 | 房间数量 | 居住人数 | 合同类型 | 不少于 | 抽奖吗 | 开始时间 |\n+------+------+----------+------+------+----------+----------+------+----------+----------+----------+--------+--------+----------+\n+------+------+----------+------+------+----------+----------+------+----------+----------+----------+--------+--------+----------+",
      "text/html": "<table>\n    <thead>\n        <tr>\n            <th>地址</th>\n            <th>城市</th>\n            <th>建筑名字</th>\n            <th>楼层</th>\n            <th>面积</th>\n            <th>基本房租</th>\n            <th>其他费用</th>\n            <th>装修</th>\n            <th>房间数量</th>\n            <th>居住人数</th>\n            <th>合同类型</th>\n            <th>不少于</th>\n            <th>抽奖吗</th>\n            <th>开始时间</th>\n        </tr>\n    </thead>\n    <tbody>\n    </tbody>\n</table>"
     },
     "execution_count": 145,
     "metadata": {},
     "output_type": "execute_result"
    }
   ],
   "source": [
    "tb = pt.PrettyTable()\n",
    "tb.field_names = colnames\n",
    "tb"
   ],
   "metadata": {
    "collapsed": false,
    "pycharm": {
     "name": "#%%\n"
    }
   }
  },
  {
   "cell_type": "code",
   "execution_count": 146,
   "outputs": [
    {
     "data": {
      "text/plain": "+----------------------------+------------+----------+---------+----------+-----------+----------+-------------+--------------+-----------------------------------------------+---------------------------+-------------------------+----------------+-----------------------------+------+------+----------+------+------+----------+----------+------+----------+----------+----------+--------+--------+----------+\n|            地址            |    城市    | 建筑名字 |   楼层  |   面积   |  基本房租 | 其他费用 |     装修    |   房间数量   |                    居住人数                   |          合同类型         |          不少于         |     抽奖吗     |           开始时间          | 地址 | 城市 | 建筑名字 | 楼层 | 面积 | 基本房租 | 其他费用 | 装修 | 房间数量 | 居住人数 | 合同类型 | 不少于 | 抽奖吗 | 开始时间 |\n+----------------------------+------------+----------+---------+----------+-----------+----------+-------------+--------------+-----------------------------------------------+---------------------------+-------------------------+----------------+-----------------------------+------+------+----------+------+------+----------+----------+------+----------+----------+----------+--------+--------+----------+\n| Jan van Zutphenstraat 761  | Amsterdam  |  Twin 1  | Floor 1 | 73.1 m2  | €1,380.00 |  102.00  | Unfurnished | Bedrooms: 2  |               Max occupancy: Two              | Contract type: Indefinite | Minimum stay: 12 Months |  BOOK DIRECTLY | Available from 03 Oct, 2022 |\n|  Busschuttenpoort 4 D 05   | Maastricht |  Amonet  | Floor 3 |  85 m2   | €1,253.00 |  40.00   | Unfurnished | Bedrooms: 2  | Max occupancy: Family (parents with children) | Contract type: Indefinite | Minimum stay: 12 Months |  BOOK DIRECTLY | Available from 12 Oct, 2022 |\n+----------------------------+------------+----------+---------+----------+-----------+----------+-------------+--------------+-----------------------------------------------+---------------------------+-------------------------+----------------+-----------------------------+------+------+----------+------+------+----------+----------+------+----------+----------+----------+--------+--------+----------+",
      "text/html": "<table>\n    <thead>\n        <tr>\n            <th>地址</th>\n            <th>城市</th>\n            <th>建筑名字</th>\n            <th>楼层</th>\n            <th>面积</th>\n            <th>基本房租</th>\n            <th>其他费用</th>\n            <th>装修</th>\n            <th>房间数量</th>\n            <th>居住人数</th>\n            <th>合同类型</th>\n            <th>不少于</th>\n            <th>抽奖吗</th>\n            <th>开始时间</th>\n            <th>地址</th>\n            <th>城市</th>\n            <th>建筑名字</th>\n            <th>楼层</th>\n            <th>面积</th>\n            <th>基本房租</th>\n            <th>其他费用</th>\n            <th>装修</th>\n            <th>房间数量</th>\n            <th>居住人数</th>\n            <th>合同类型</th>\n            <th>不少于</th>\n            <th>抽奖吗</th>\n            <th>开始时间</th>\n        </tr>\n    </thead>\n    <tbody>\n        <tr>\n            <td>Jan van Zutphenstraat 761 </td>\n            <td>Amsterdam</td>\n            <td>Twin 1</td>\n            <td>Floor 1</td>\n            <td>73.1 m2 </td>\n            <td>€1,380.00</td>\n            <td>102.00</td>\n            <td>Unfurnished</td>\n            <td>Bedrooms: 2 </td>\n            <td>Max occupancy: Two</td>\n            <td>Contract type: Indefinite</td>\n            <td>Minimum stay: 12 Months</td>\n            <td> BOOK DIRECTLY</td>\n            <td>Available from 03 Oct, 2022</td>\n        </tr>\n        <tr>\n            <td>Busschuttenpoort 4 D 05 </td>\n            <td>Maastricht</td>\n            <td>Amonet</td>\n            <td>Floor 3</td>\n            <td>85 m2 </td>\n            <td>€1,253.00</td>\n            <td>40.00</td>\n            <td>Unfurnished</td>\n            <td>Bedrooms: 2 </td>\n            <td>Max occupancy: Family (parents with children)</td>\n            <td>Contract type: Indefinite</td>\n            <td>Minimum stay: 12 Months</td>\n            <td> BOOK DIRECTLY</td>\n            <td>Available from 12 Oct, 2022</td>\n        </tr>\n    </tbody>\n</table>"
     },
     "execution_count": 146,
     "metadata": {},
     "output_type": "execute_result"
    }
   ],
   "source": [
    "for ele in combo:\n",
    "    tb.add_column(ele[0],ele[1])\n",
    "tb\n"
   ],
   "metadata": {
    "collapsed": false,
    "pycharm": {
     "name": "#%%\n"
    }
   }
  },
  {
   "cell_type": "code",
   "execution_count": 159,
   "outputs": [
    {
     "ename": "ValueError",
     "evalue": "Field names must be unique",
     "output_type": "error",
     "traceback": [
      "\u001B[1;31m---------------------------------------------------------------------------\u001B[0m",
      "\u001B[1;31mAssertionError\u001B[0m                            Traceback (most recent call last)",
      "File \u001B[1;32m~\\.julia\\conda\\3\\envs\\webc\\lib\\site-packages\\prettytable\\prettytable.py:437\u001B[0m, in \u001B[0;36mPrettyTable._validate_field_names\u001B[1;34m(self, val)\u001B[0m\n\u001B[0;32m    436\u001B[0m \u001B[38;5;28;01mtry\u001B[39;00m:\n\u001B[1;32m--> 437\u001B[0m     \u001B[38;5;28;01massert\u001B[39;00m \u001B[38;5;28mlen\u001B[39m(val) \u001B[38;5;241m==\u001B[39m \u001B[38;5;28mlen\u001B[39m(\u001B[38;5;28mset\u001B[39m(val))\n\u001B[0;32m    438\u001B[0m \u001B[38;5;28;01mexcept\u001B[39;00m \u001B[38;5;167;01mAssertionError\u001B[39;00m:\n",
      "\u001B[1;31mAssertionError\u001B[0m: ",
      "\nDuring handling of the above exception, another exception occurred:\n",
      "\u001B[1;31mValueError\u001B[0m                                Traceback (most recent call last)",
      "Input \u001B[1;32mIn [159]\u001B[0m, in \u001B[0;36m<cell line: 1>\u001B[1;34m()\u001B[0m\n\u001B[1;32m----> 1\u001B[0m \u001B[43mtb\u001B[49m\u001B[43m[\u001B[49m\u001B[38;5;124;43m'\u001B[39;49m\u001B[38;5;124;43m城市\u001B[39;49m\u001B[38;5;124;43m'\u001B[39;49m\u001B[43m]\u001B[49m\n",
      "File \u001B[1;32m~\\.julia\\conda\\3\\envs\\webc\\lib\\site-packages\\prettytable\\prettytable.py:313\u001B[0m, in \u001B[0;36mPrettyTable.__getitem__\u001B[1;34m(self, index)\u001B[0m\n\u001B[0;32m    310\u001B[0m \u001B[38;5;28;01mdef\u001B[39;00m \u001B[38;5;21m__getitem__\u001B[39m(\u001B[38;5;28mself\u001B[39m, index):\n\u001B[0;32m    312\u001B[0m     new \u001B[38;5;241m=\u001B[39m PrettyTable()\n\u001B[1;32m--> 313\u001B[0m     new\u001B[38;5;241m.\u001B[39mfield_names \u001B[38;5;241m=\u001B[39m \u001B[38;5;28mself\u001B[39m\u001B[38;5;241m.\u001B[39mfield_names\n\u001B[0;32m    314\u001B[0m     \u001B[38;5;28;01mfor\u001B[39;00m attr \u001B[38;5;129;01min\u001B[39;00m \u001B[38;5;28mself\u001B[39m\u001B[38;5;241m.\u001B[39m_options:\n\u001B[0;32m    315\u001B[0m         \u001B[38;5;28msetattr\u001B[39m(new, \u001B[38;5;124m\"\u001B[39m\u001B[38;5;124m_\u001B[39m\u001B[38;5;124m\"\u001B[39m \u001B[38;5;241m+\u001B[39m attr, \u001B[38;5;28mgetattr\u001B[39m(\u001B[38;5;28mself\u001B[39m, \u001B[38;5;124m\"\u001B[39m\u001B[38;5;124m_\u001B[39m\u001B[38;5;124m\"\u001B[39m \u001B[38;5;241m+\u001B[39m attr))\n",
      "File \u001B[1;32m~\\.julia\\conda\\3\\envs\\webc\\lib\\site-packages\\prettytable\\prettytable.py:602\u001B[0m, in \u001B[0;36mPrettyTable.field_names\u001B[1;34m(self, val)\u001B[0m\n\u001B[0;32m    599\u001B[0m \u001B[38;5;129m@field_names\u001B[39m\u001B[38;5;241m.\u001B[39msetter\n\u001B[0;32m    600\u001B[0m \u001B[38;5;28;01mdef\u001B[39;00m \u001B[38;5;21mfield_names\u001B[39m(\u001B[38;5;28mself\u001B[39m, val):\n\u001B[0;32m    601\u001B[0m     val \u001B[38;5;241m=\u001B[39m [\u001B[38;5;28mstr\u001B[39m(x) \u001B[38;5;28;01mfor\u001B[39;00m x \u001B[38;5;129;01min\u001B[39;00m val]\n\u001B[1;32m--> 602\u001B[0m     \u001B[38;5;28;43mself\u001B[39;49m\u001B[38;5;241;43m.\u001B[39;49m\u001B[43m_validate_option\u001B[49m\u001B[43m(\u001B[49m\u001B[38;5;124;43m\"\u001B[39;49m\u001B[38;5;124;43mfield_names\u001B[39;49m\u001B[38;5;124;43m\"\u001B[39;49m\u001B[43m,\u001B[49m\u001B[43m \u001B[49m\u001B[43mval\u001B[49m\u001B[43m)\u001B[49m\n\u001B[0;32m    603\u001B[0m     old_names \u001B[38;5;241m=\u001B[39m \u001B[38;5;28;01mNone\u001B[39;00m\n\u001B[0;32m    604\u001B[0m     \u001B[38;5;28;01mif\u001B[39;00m \u001B[38;5;28mself\u001B[39m\u001B[38;5;241m.\u001B[39m_field_names:\n",
      "File \u001B[1;32m~\\.julia\\conda\\3\\envs\\webc\\lib\\site-packages\\prettytable\\prettytable.py:354\u001B[0m, in \u001B[0;36mPrettyTable._validate_option\u001B[1;34m(self, option, val)\u001B[0m\n\u001B[0;32m    352\u001B[0m \u001B[38;5;28;01mdef\u001B[39;00m \u001B[38;5;21m_validate_option\u001B[39m(\u001B[38;5;28mself\u001B[39m, option, val):\n\u001B[0;32m    353\u001B[0m     \u001B[38;5;28;01mif\u001B[39;00m option \u001B[38;5;241m==\u001B[39m \u001B[38;5;124m\"\u001B[39m\u001B[38;5;124mfield_names\u001B[39m\u001B[38;5;124m\"\u001B[39m:\n\u001B[1;32m--> 354\u001B[0m         \u001B[38;5;28;43mself\u001B[39;49m\u001B[38;5;241;43m.\u001B[39;49m\u001B[43m_validate_field_names\u001B[49m\u001B[43m(\u001B[49m\u001B[43mval\u001B[49m\u001B[43m)\u001B[49m\n\u001B[0;32m    355\u001B[0m     \u001B[38;5;28;01melif\u001B[39;00m option \u001B[38;5;241m==\u001B[39m \u001B[38;5;124m\"\u001B[39m\u001B[38;5;124mnone_format\u001B[39m\u001B[38;5;124m\"\u001B[39m:\n\u001B[0;32m    356\u001B[0m         \u001B[38;5;28mself\u001B[39m\u001B[38;5;241m.\u001B[39m_validate_none_format(val)\n",
      "File \u001B[1;32m~\\.julia\\conda\\3\\envs\\webc\\lib\\site-packages\\prettytable\\prettytable.py:439\u001B[0m, in \u001B[0;36mPrettyTable._validate_field_names\u001B[1;34m(self, val)\u001B[0m\n\u001B[0;32m    437\u001B[0m     \u001B[38;5;28;01massert\u001B[39;00m \u001B[38;5;28mlen\u001B[39m(val) \u001B[38;5;241m==\u001B[39m \u001B[38;5;28mlen\u001B[39m(\u001B[38;5;28mset\u001B[39m(val))\n\u001B[0;32m    438\u001B[0m \u001B[38;5;28;01mexcept\u001B[39;00m \u001B[38;5;167;01mAssertionError\u001B[39;00m:\n\u001B[1;32m--> 439\u001B[0m     \u001B[38;5;28;01mraise\u001B[39;00m \u001B[38;5;167;01mValueError\u001B[39;00m(\u001B[38;5;124m\"\u001B[39m\u001B[38;5;124mField names must be unique\u001B[39m\u001B[38;5;124m\"\u001B[39m)\n",
      "\u001B[1;31mValueError\u001B[0m: Field names must be unique"
     ]
    }
   ],
   "source": [
    "tb['城市']"
   ],
   "metadata": {
    "collapsed": false,
    "pycharm": {
     "name": "#%%\n"
    }
   }
  },
  {
   "cell_type": "code",
   "execution_count": 160,
   "outputs": [
    {
     "data": {
      "text/plain": "1"
     },
     "execution_count": 160,
     "metadata": {},
     "output_type": "execute_result"
    }
   ],
   "source": [
    "city.count('Amsterdam')"
   ],
   "metadata": {
    "collapsed": false,
    "pycharm": {
     "name": "#%%\n"
    }
   }
  },
  {
   "cell_type": "code",
   "execution_count": 165,
   "outputs": [
    {
     "name": "stdout",
     "output_type": "stream",
     "text": [
      "2022-09-26 15:52:44 共有：2套 \n",
      " 鹿特丹：0套 \n",
      " 海牙：0套\n",
      "还没有你想要的\n"
     ]
    }
   ],
   "source": [
    "R = '快去抢鹿特丹的房子！'\n",
    "\n",
    "print(time.strftime(\"%Y-%m-%d %H:%M:%S\", time.localtime()), '共有：{}套'.format(len(city)),\n",
    "      '\\n 鹿特丹：{}套'.format(city.count('Rotterdam')),\n",
    "      '\\n 海牙：{}套'.format(city.count('Rotterdam')))\n",
    "\n",
    "if 'Rotterdam' in city:\n",
    "    print('快去抢')\n",
    "else:\n",
    "    print('还没有你想要的')"
   ],
   "metadata": {
    "collapsed": false,
    "pycharm": {
     "name": "#%%\n"
    }
   }
  }
 ],
 "metadata": {
  "kernelspec": {
   "display_name": "Python 3",
   "language": "python",
   "name": "python3"
  },
  "language_info": {
   "codemirror_mode": {
    "name": "ipython",
    "version": 2
   },
   "file_extension": ".py",
   "mimetype": "text/x-python",
   "name": "python",
   "nbconvert_exporter": "python",
   "pygments_lexer": "ipython2",
   "version": "2.7.6"
  }
 },
 "nbformat": 4,
 "nbformat_minor": 0
}