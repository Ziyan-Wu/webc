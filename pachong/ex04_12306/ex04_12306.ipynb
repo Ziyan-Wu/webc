{
 "cells": [
  {
   "cell_type": "code",
   "execution_count": 55,
   "metadata": {
    "collapsed": true
   },
   "outputs": [],
   "source": [
    "import requests\n",
    "from bs4 import BeautifulSoup\n",
    "from lxml import etree\n",
    "import json\n",
    "import re\n",
    "import multiprocessing\n",
    "# import xlwt\n",
    "import time\n",
    "import pandas as pd\n",
    "import matplotlib\n",
    "from matplotlib import pyplot as plt\n",
    "import prettytable as pt"
   ]
  },
  {
   "cell_type": "code",
   "execution_count": null,
   "outputs": [],
   "source": [],
   "metadata": {
    "collapsed": false,
    "pycharm": {
     "name": "#%%\n"
    }
   }
  },
  {
   "cell_type": "code",
   "execution_count": null,
   "outputs": [],
   "source": [
    "'''读取城市code.json'''\n",
    "\n",
    "# json文件 转 Python数据类型\n",
    "with open(\"D:/03workplace/pachong/ex04_12306/citycode.json\",\n",
    "          'r', encoding='utf-8') as f:\n",
    "    city_data = json.load(f)"
   ],
   "metadata": {
    "collapsed": false,
    "pycharm": {
     "name": "#%%\n"
    }
   }
  },
  {
   "cell_type": "code",
   "execution_count": null,
   "outputs": [],
   "source": [
    "city_data['上海']"
   ],
   "metadata": {
    "collapsed": false,
    "pycharm": {
     "name": "#%%\n"
    }
   }
  },
  {
   "cell_type": "code",
   "execution_count": null,
   "outputs": [],
   "source": [
    "'''输入出发到达城市，时间'''\n",
    "\n",
    "from_station = city_data[input('departure city')]\n",
    "to_station = city_data[input('arrive city')]\n",
    "train_date = input('date (format: 2022-05-01)')\n",
    "\n",
    "# print(from_station, to_station, train_date)\n",
    "\n",
    "'''根据输入-更改url'''\n",
    "aim_link = 'https://kyfw.12306.cn/otn/leftTicket/queryZ?'\\\n",
    "        'leftTicketDTO.train_date={}&leftTicketDTO.from_station={}&'\\\n",
    "        'leftTicketDTO.to_station={}&purpose_codes=ADULT'.format(train_date, from_station, to_station)\n",
    "# print(aim_link)\n",
    "\n",
    "header = {'User-Agent': 'Mozilla/5.0 (Windows NT 10.0; Win64; x64) '\n",
    "                        'AppleWebKit/537.36 (KHTML, like Gecko) '\n",
    "                        'Chrome/92.0.4515.107 Safari/537.36 Edg/92.0.902.55',\n",
    "          'Cookie': '_uab_collina=166383369752571822153616; JSESSIONID=DF7EF7E7BD4C9AE3DB630A223EBB7ABC; BIGipServerotn=418382346.50210.0000; RAIL_EXPIRATION=1664130073550; RAIL_DEVICEID=JM23qN7Whm3pkS5TjxWBqKegm7ebeDHn6CLWwR8SKmY-1u45fy5Y83v9rSLPWMuisqG_4MoopusAslMgnXjdHnGz7mkuaYngFv8oY8Oh9geHA0lBgvtlT84_2g3TLOEzxao9U1IXHX0wsi8P1OX5RuOqai9arg4t; BIGipServerpool_passport=149160458.50215.0000; guidesStatus=off; highContrastMode=defaltMode; cursorStatus=off; fo=mr4xxi63eitk7a6rIMBl60T0R7mb2JQ3aPSMIO3c_3RFjJi7fu7SsaRmhT5N0XWyDiaJk-Ar5oUKnthIhYQqfJPOppWyXzkXpriBsBsqD7QiXru-tRLga3i80SQwvSCRUuZMh-YuAxo7udCPbWpAG4fbzaWYVGjDeTtk3CbK7mQkm1L_rckwNJrP_Zk; route=495c805987d0f5c8c84b14f60212447d; ai_user=yn5FsvthZPkgVt4UK8uDxu|2022-09-22T08:01:36.281Z; _jc_save_fromStation=%u5E7F%u5DDE%2CGZQ; _jc_save_toDate=2022-09-22; _jc_save_wfdc_flag=dc; _jc_save_fromDate=2022-09-30; _jc_save_toStation=%u676D%u5DDE%2CHZH'}\n",
    "\n",
    "response = requests.get(aim_link, headers=header)\n",
    "print(response.status_code)"
   ],
   "metadata": {
    "collapsed": false,
    "pycharm": {
     "name": "#%%\n"
    }
   }
  },
  {
   "cell_type": "code",
   "execution_count": 49,
   "outputs": [
    {
     "data": {
      "text/plain": "'{\"httpstatus\":200,\"data\":{\"result\":[\"xsOqM3huEj9hhaVj9VSh6I%2F6VeZi8orTv0RTi%2FPOPKZrJ9aBOA7bxBovbZwFRXx3D5Qq60yFcR3C%0An9HoF5lxRJ%2BZMtzOVQyaYUHJBjlr84A2sUO%2B%2FpoWsmoibtnjG1T%2Fs1y%2BYeifOz5CocE18keDkw9y%0AMuDm5yznF2OCoUrW6cUvBDDXSI8dS4dLFUB8kDN%2BiYvBqdjZOahQSwvr0FT7YYf3eoE7OgBgiRDV%0AiJipSQNB%2F7iy%2FnCpDcIkvwCS6AJht7XNZh1%2B2Ju06%2B0klmWPBz0%2BU2U1sR1snA2JSiVQMMBUGwSy%0AkUgSv%2BjgiN14X5wS|预订|630000Z13500|Z135|GZQ|WAR|GZQ|XAY|06:55|07:42|24:47|Y|TmB4Z7%2Fa41jfJcss5cHpNkmgS14v1%2FEmz7eImplUs9c19SRTQhMJq4p2kuQ%3D|20220927|3|Q6|01|14|1|0||||无|||无||11|无|||||304010W0|3411|0|1||3041400011407240000010243000001024303000|0|||||1|#0#0#0#z||\",\"nC%2FGPyk1XkSgIqnXasXLAJ0csVWvOVydC91tpG%2FPIibnLP2g405g7zE7VYbcUzA7hG6J8s5jh3YX%0AH0AIWftVXPMFiiCKiwt5oTfDkMygqvTl4gAj1JJwTnuatiEfFOOx741l%2Bsvh6Iegv61Uj5lwWiQb%0ACdANDTR%2F8PHVb4qikRHf5Gi3NrmICRj5dRfSU8gv5cV9WBRtULPfNVH5tW3fEUmJkszRBV7VVgch%0ATtLmiLmRagaDaz2OhQz48DgzPMDnJ0IE1AJrS5mEFfcJP6hV6BOiKuxSZZV6ty8ZYVRtZ9VQPesZ%0A9GS3wVFgkxY%3D|预订|6c0000G83400|G834|IZQ|EAY|IZQ|EAY|07:03|16:07|09:04|Y|32sKTmjDuzhMfw66oigk4YV7nsVbIMJ%2ByzZQjKqYfIGoejIZ|20220927|3|Q9|01|15|1|0|||||||||||有|有|8||O0M090|OM9|1|0||O078950021M1262500219256850008|0|||||1|#0#0#0#z||\",\"RUY4DTvfNUWsuqJYDtcabIL0pqWUUrzg3qLrGWG1aJIh9q6OuUpT6w7ZnA%2ByyKcgmaA8oF9ocrtv%0Aok4vCHi%2F8Vp9BWkqVWkWySDs2LDvzSQXZ9iEgQaO3vscbHkSVW7QdowhXpiKZbRNItV%2Fs%2FI54h7n%0AhQIjE2HAzhJ390lUZ7elr8iG8HLS0paGGF5r%2FEE87KotXfmEtfGimQxCdOEZcYxrp6wF7UhG2qYG%0AFz%2FOcVf5Kg6bcb94uBtwNMOBMBI3lRP%2FZGGXb1FjjAd6%2B%2Biyht%2FEbsvuOYVIsi7QEybzNgzItXF3%0ANGVQlew9%2FPo%3D|预订|6c0000G87803|G878|IZQ|YIJ|IZQ|EAY|08:42|18:05|09:23|Y|K6u14UxyKzTzzntu6PiM2b08UPED94m2JP541%2FYFb36gpBqX|20220927|3|Q7|01|17|1|0|||||||||||有|13|2||O0M090|OM9|0|0||O078950021M1262500139256850002|0|||||1|0#1#0#0#z||\",\"1mz1Sx464%2BKEIgniaYByyB0DEPxOqOimwmCcMqecPeoi%2FPJvZ%2BnwC9xKkSew1cQ21Jh%2Ft2Z2T8Xv%0Aul9URJMLYCnneJN7KeAR57w1X4hiElA7YadTWU4G23lfVuw0kEJkxFsGj98SMGSqmdQevXXp9kXi%0A4eYQiArjsquK0wb%2BlqklBPNzVKpwy6pDaB1RwB90Fp2zVh%2BR6J4UyZw0E1EKoEYTeELHrMkU%2B0n4%0AM4vGRFYN9oD5A%2B1aRZJcP30%2FmPg6UZHX0Ss%2BU1iHEVDsuD6X5xEFF1AMQp9G6GpJpFBuO3sPp%2Fpr%0Az8OVCbJiG9c%3D|预订|6c0000G81400|G814|IZQ|LAJ|IZQ|EAY|08:55|16:15|07:20|Y|dQhIVliWPXkp9ASN1DjEzJMDNpq1kMynH6ZU%2Fh0hZlogDEqR|20220927|3|Q9|01|05|1|0|||||||||||有|有|9||O0M090|OM9|0|0||O083850021M1341500219264250009|0|||||1|#1#0#0#z||\",\"CEeNFDpjX53BMoad%2BkqDpcGQ9T9da9hvn9aV2xbjSV%2B%2F6fyD7I7k1d61YWGcuQzCoQnC8Pop2ZjE%0AO8g2I%2B%2Bk59tAP8nODpeDiUrO0Q56xNGOZNY37ZpXt4mki7eDZVZrRr3P2NABAlSRUNMvZ5GKEvLm%0A0leu%2BxUJ8jZwoH269nq%2Fet05zRzSs9PixH4zOP7ykB5VqeZ3APDvlQnzXbs00tdBonKhMyAYcOf0%0ACiskWaZMhdBQDXXDOHQrOtnl9wi9u8xieKB0sr8H1bK27PXbXtVJ8aJ4olbgIS6ou59WeewL%2BaIO%0A%2BYRedkBhdXF4r7H0J3vcLA%3D%3D|预订|65000K13480B|K1348|SZQ|XAY|GBQ|XAY|10:15|13:22|27:07|Y|ir7DAYSgQzW8JPxO55ldEV3hA7ZyCMj12X%2FnD793E4ldTjizSi5JtOOO0R0%3D|20220927|3|Q7|02|16|1|0||||7|||无||有|有|||||103040W0|1341|0|0||1023600021303990002140693000071023603000|0|||||1|#0#0#0#z||\",\"SmPQYjcnuTKsI3GwESkuj4sIYEFI3TGT0Nv0TwpADIAirWz3hJDpe97GKki80n5WOLGLNtqlQOvz%0AuMibzO4HSMOqFlyLU0g0vWMOUPp7r6XG30%2B2I4r0pV20ol9wGZzZO60DGdS48YOVp7Nr2eryD7YD%0Au3Eoa4Gw4sg%2Fm7rqQJDqHPDe0YDmcwGnjIUou5euad6KDGiAxCt7lK5wIwMCeF%2BNt25mcp4IVZ5n%0AK6hfBs%2FRmrjNWVkWDa9MEtIuX63HPkfjNUVn4w%2FU315gZyGMuQlyCx4i7dsCcc5y4s4ops74hBYs%0A7if78ve1Etg%3D|预订|6i0000G8220O|G822|IOQ|EAY|IZQ|EAY|10:15|19:22|09:07|Y|ShNFXb5JSybEt9c1BCFTsCmMvG3ypd4RRyyRaVN6Xv788Tye|20220927|3|Q9|03|17|1|0|||||||||||4|9|无||O0M090|OM9|0|1||O086150004M1378500099271550000|0|||||1|#0#0#0#z||\",\"KLvqLLxHJM7N3WYh0b7m4tcTo9vlzswrDjovJVSNEmlyZFAIMROCx%2Fyl1jXncbyC1Q1%2BZqtIAv3y%0AmvBHjFsYc%2Bf72Tg1Q752cn0%2FZC5CDnXybhbYglri%2FX107%2BsuyqLl4upEjyW4t342s1N%2BwfH3j9fF%0AwQiGmWM8OLRo34%2B5T9o7ARVQgsXbHPPiyXbt8lrKNhAc3J7Tngy5cHFmcw3LReOeCBdZEtJIXs9C%0AxzZgguZtuF53R2EZz45uGCMw54k7YrzAJ2WSKhJ4Ykd9scb%2BG0VjqyOdIz%2BPzsB0W2l5lHM%3D|预订|650000Z2300C|Z230|BJQ|XNO|GBQ|XAY|10:55|09:05|22:10|N|pi7Rt4NEhVCqc88mzAoZqPC9RaMsSyc1|20220927|3|Q7|02|10|1|0|||||||||无|无|||||3010|31|0|1||30370000001021700000|0|||||1|0#0#0#0#z||\",\"SQs8TZlL%2BGDQ2gbP006dT2oFm2JvwwIEjczHhu98UhmleV4xzmCg1kqcjFeCLI6dAd%2BOkFpa%2B8xO%0AffBVo8%2FUDF6C3UIdNrbk%2FELt33k95KeXvYge3OwE%2BnMv72QFy65c22ne%2Bl6D%2Bts%2Bz%2FnhJwRkefoj%0AX95XxoSvpJzeXnTLrBATvMxNM6CNUJXfRYKy8X0fcyeg9Age%2BW5YXDOo2s6IIpn7galb78Yq87xn%0AQBCQYeDfEo9RZX81ZG%2BGuLu7Pfpf%2FLyLtpxTbolv432SMageLHQXxJgI41Rn9SHXF47PEqGJ6VxL%0AXUagWzCOYi4%3D|预订|6c0000G83800|G838|IZQ|EAY|IZQ|EAY|11:25|20:13|08:48|Y|o7OXZ3U9%2BW9WcA1UYOizjb8fpUfVBWw%2FEZaGUnvAhJEX9KFU|20220927|3|Q7|01|13|1|0|||||||||||有|无|无||O0M090|OM9|0|1||O083850021M1341500009264250000|0|||||1|#0#0#0#z||\",\"C0%2FYyilBN46FXxh5VZrJVkVM3ewZEJlfoPX7QePUwUBiBvSVccVscxGnLl6N3GsD5uMWF9mDRZsa%0A918gdctywaVPpX7pTMn7o%2Bo4IdjLc7EnGpSV%2BEFOsi8%2BRLesRmQkfpiWbffQGxnJ08DsEw4bxpBb%0A52CGdU%2FoZm4SsXb%2Fs9OBvP90ho0fYgBEJnB%2BgJrVb4H0cHtsgRoTMeVeBcWQBvEHnV1gxxD2ci%2FI%0AAR9a1wyebtuK%2FPkIR7Qe0DHtV%2FUBglD%2B8vmjpD0wxTu9MeHpb5VvaC8N3e%2BX6yjqqpuBo3ndfISv%0AeEimc%2FrFofE%3D|预订|6c0000G84200|G842|IZQ|LAJ|IZQ|EAY|12:23|21:16|08:53|Y|cT3Dwiw1U4WlEwaJQKc%2BYIeakyHGSc0SAkUpvx7mY9Nf7Ilq|20220927|3|Q6|01|15|1|0|||||||||||有|无|1||O0M090|OM9|1|1||O086150021M1378500009271550001|0|||||1|#0#0#0#z||\",\"bA5%2BE95ollaNHq7pvKbrIf%2BvpCA6k9st3reZaMpYjhUW3fp0EE5JY47wU64rIMraZezBD30bnjbZ%0Am9rWN1rMWeOOeabg2aV20OIv2z8fMDgzC47PWLR25fsQu4xtvy6xKCmolkRrBvBwZRvOZgc76cGJ%0AMdHrXKDyido75LndexCsjSrtKw8K30ljSMkx43Pa51NqztomOi%2FsedcVDjs6TYJZx8ci6CBpvZGw%0AoYZjPmghIV5rGsVAO7E2Ly6CuG9tuT4K3qDXkgINdCykY4OrmEgiw43FFhS5hTL6DYqpkVZxc6bU%0ACl0cSRDhSH8%3D|预订|6i0000G83000|G830|IOQ|EAY|IZQ|EAY|13:29|22:36|09:07|Y|JCIJ%2BoUy1EHCJaaVt2e80JYwhpAtV3Fi%2FKAn8wd1k%2Bv%2B%2Fy6Y|20220927|3|Q7|03|18|1|0|||||||||||10|4|无||O0M090|OM9|1|1||O083850010M1341500049264250000|0|||||1|#1#0#0#z||\",\"swid1R8s7SGOvIB65GtrwVcOHYUHGUGpP3n8QtRmdTJl5ZVx6uMH%2FqPtMZHMJQeD2CnpB%2Fx7wQVb%0AK5C2UE8xvuHcaARI5Z4ABrNDmVLsrypWqTa3EFoWZ7N9H4LxE%2FgvJ3ZYluJIPfmOM0VfpOxq8TJE%0AI8V23Tx0ISjw1iu9%2Bpx46i5NVwML6dnl0OG1dpF9ETNEKjddYhkDy7pwY1F%2FO%2BTd6k3r%2FVOCM%2BTs%0AUnL0z1ocGqjGJBsExAY36PByYyUUsn%2Fj9azpYByebTLLrH2HdK%2BeHqRv1u%2FTfEQY3z0UdzwJGAvF%0AhVS0lCiou9AlbtuF|预订|63000K129700|K1297|GZQ|YIJ|GZQ|XAY|16:35|20:47|28:12|Y|fiwcd5xhGF6x1fDw4cWsqw7P%2FmbznSD%2F%2BukU8YLbeTjlAjmkTBtThh9JUaU%3D|20220927|3|Q7|01|19|1|0||||5|||无||有|有|||||304010W0|3411|0|0||3038900021406940000510229000211022903000|0|||||1|#0#0#0#z||\",\"6J%2FTPZFMplC0wFP4C9mfT8qg8onrXhjuv231eb%2Fx3GxeXc64l%2BOzS%2FoLPQseT7J8VjT29xolj93o%0AKwrQJ1TPAsT4aqqfMHx3ODH0sJZd0jOX%2FTJiPGrsOXsZV3cC0oUaPtAC5wbkw%2BrIYFQC7p6zHI0q%0Acu%2Bto4pnDi0XT309CtmADIMjcPp1LN0Vcx6Cd83Wl23pj06tNw9Uq3vK%2Fr5pMX%2BfOfbA5Tu4AiaJ%0AIwGqv8wy57leBJ8bIV6Y6WvMMcjij%2FQuBkNahWrOOGxP1UXJm07sq5OkbJvT%2F%2Fpkhz%2BfT%2FEaly7R%0A6Q2RqvqyWpapsNXU|预订|630000K22701|K227|GZQ|LZJ|GZQ|XAY|17:51|23:50|29:59|Y|mgNDssEOYbcHYpObC2vDWoOtsqGsYxyiQSE8%2F17EgtipScBumPAwNqGTqd4%3D|20220927|3|Q7|01|25|1|0||||12|||无||无|无|||||304010W0|3411|1|1||3041400000407240001210243000001024303000|0|||||1|#0#0#0#z||\"],\"flag\":\"1\",\"map\":{\"XAY\":\"西安\",\"IZQ\":\"广州南\",\"GBQ\":\"广州北\",\"EAY\":\"西安北\",\"GZQ\":\"广州\"}},\"messages\":\"\",\"status\":true}'"
     },
     "execution_count": 49,
     "metadata": {},
     "output_type": "execute_result"
    }
   ],
   "source": [
    "\"\"\" 获取内容 \"\"\"\n",
    "\n",
    "# change to Chinese\n",
    "response.encoding = response.apparent_encoding\n",
    "\n",
    "'''M1'''\n",
    "response.text"
   ],
   "metadata": {
    "collapsed": false,
    "pycharm": {
     "name": "#%%\n"
    }
   }
  },
  {
   "cell_type": "code",
   "execution_count": 50,
   "outputs": [
    {
     "data": {
      "text/plain": "{'httpstatus': 200,\n 'data': {'result': ['xsOqM3huEj9hhaVj9VSh6I%2F6VeZi8orTv0RTi%2FPOPKZrJ9aBOA7bxBovbZwFRXx3D5Qq60yFcR3C%0An9HoF5lxRJ%2BZMtzOVQyaYUHJBjlr84A2sUO%2B%2FpoWsmoibtnjG1T%2Fs1y%2BYeifOz5CocE18keDkw9y%0AMuDm5yznF2OCoUrW6cUvBDDXSI8dS4dLFUB8kDN%2BiYvBqdjZOahQSwvr0FT7YYf3eoE7OgBgiRDV%0AiJipSQNB%2F7iy%2FnCpDcIkvwCS6AJht7XNZh1%2B2Ju06%2B0klmWPBz0%2BU2U1sR1snA2JSiVQMMBUGwSy%0AkUgSv%2BjgiN14X5wS|预订|630000Z13500|Z135|GZQ|WAR|GZQ|XAY|06:55|07:42|24:47|Y|TmB4Z7%2Fa41jfJcss5cHpNkmgS14v1%2FEmz7eImplUs9c19SRTQhMJq4p2kuQ%3D|20220927|3|Q6|01|14|1|0||||无|||无||11|无|||||304010W0|3411|0|1||3041400011407240000010243000001024303000|0|||||1|#0#0#0#z||',\n   'nC%2FGPyk1XkSgIqnXasXLAJ0csVWvOVydC91tpG%2FPIibnLP2g405g7zE7VYbcUzA7hG6J8s5jh3YX%0AH0AIWftVXPMFiiCKiwt5oTfDkMygqvTl4gAj1JJwTnuatiEfFOOx741l%2Bsvh6Iegv61Uj5lwWiQb%0ACdANDTR%2F8PHVb4qikRHf5Gi3NrmICRj5dRfSU8gv5cV9WBRtULPfNVH5tW3fEUmJkszRBV7VVgch%0ATtLmiLmRagaDaz2OhQz48DgzPMDnJ0IE1AJrS5mEFfcJP6hV6BOiKuxSZZV6ty8ZYVRtZ9VQPesZ%0A9GS3wVFgkxY%3D|预订|6c0000G83400|G834|IZQ|EAY|IZQ|EAY|07:03|16:07|09:04|Y|32sKTmjDuzhMfw66oigk4YV7nsVbIMJ%2ByzZQjKqYfIGoejIZ|20220927|3|Q9|01|15|1|0|||||||||||有|有|8||O0M090|OM9|1|0||O078950021M1262500219256850008|0|||||1|#0#0#0#z||',\n   'RUY4DTvfNUWsuqJYDtcabIL0pqWUUrzg3qLrGWG1aJIh9q6OuUpT6w7ZnA%2ByyKcgmaA8oF9ocrtv%0Aok4vCHi%2F8Vp9BWkqVWkWySDs2LDvzSQXZ9iEgQaO3vscbHkSVW7QdowhXpiKZbRNItV%2Fs%2FI54h7n%0AhQIjE2HAzhJ390lUZ7elr8iG8HLS0paGGF5r%2FEE87KotXfmEtfGimQxCdOEZcYxrp6wF7UhG2qYG%0AFz%2FOcVf5Kg6bcb94uBtwNMOBMBI3lRP%2FZGGXb1FjjAd6%2B%2Biyht%2FEbsvuOYVIsi7QEybzNgzItXF3%0ANGVQlew9%2FPo%3D|预订|6c0000G87803|G878|IZQ|YIJ|IZQ|EAY|08:42|18:05|09:23|Y|K6u14UxyKzTzzntu6PiM2b08UPED94m2JP541%2FYFb36gpBqX|20220927|3|Q7|01|17|1|0|||||||||||有|13|2||O0M090|OM9|0|0||O078950021M1262500139256850002|0|||||1|0#1#0#0#z||',\n   '1mz1Sx464%2BKEIgniaYByyB0DEPxOqOimwmCcMqecPeoi%2FPJvZ%2BnwC9xKkSew1cQ21Jh%2Ft2Z2T8Xv%0Aul9URJMLYCnneJN7KeAR57w1X4hiElA7YadTWU4G23lfVuw0kEJkxFsGj98SMGSqmdQevXXp9kXi%0A4eYQiArjsquK0wb%2BlqklBPNzVKpwy6pDaB1RwB90Fp2zVh%2BR6J4UyZw0E1EKoEYTeELHrMkU%2B0n4%0AM4vGRFYN9oD5A%2B1aRZJcP30%2FmPg6UZHX0Ss%2BU1iHEVDsuD6X5xEFF1AMQp9G6GpJpFBuO3sPp%2Fpr%0Az8OVCbJiG9c%3D|预订|6c0000G81400|G814|IZQ|LAJ|IZQ|EAY|08:55|16:15|07:20|Y|dQhIVliWPXkp9ASN1DjEzJMDNpq1kMynH6ZU%2Fh0hZlogDEqR|20220927|3|Q9|01|05|1|0|||||||||||有|有|9||O0M090|OM9|0|0||O083850021M1341500219264250009|0|||||1|#1#0#0#z||',\n   'CEeNFDpjX53BMoad%2BkqDpcGQ9T9da9hvn9aV2xbjSV%2B%2F6fyD7I7k1d61YWGcuQzCoQnC8Pop2ZjE%0AO8g2I%2B%2Bk59tAP8nODpeDiUrO0Q56xNGOZNY37ZpXt4mki7eDZVZrRr3P2NABAlSRUNMvZ5GKEvLm%0A0leu%2BxUJ8jZwoH269nq%2Fet05zRzSs9PixH4zOP7ykB5VqeZ3APDvlQnzXbs00tdBonKhMyAYcOf0%0ACiskWaZMhdBQDXXDOHQrOtnl9wi9u8xieKB0sr8H1bK27PXbXtVJ8aJ4olbgIS6ou59WeewL%2BaIO%0A%2BYRedkBhdXF4r7H0J3vcLA%3D%3D|预订|65000K13480B|K1348|SZQ|XAY|GBQ|XAY|10:15|13:22|27:07|Y|ir7DAYSgQzW8JPxO55ldEV3hA7ZyCMj12X%2FnD793E4ldTjizSi5JtOOO0R0%3D|20220927|3|Q7|02|16|1|0||||7|||无||有|有|||||103040W0|1341|0|0||1023600021303990002140693000071023603000|0|||||1|#0#0#0#z||',\n   'SmPQYjcnuTKsI3GwESkuj4sIYEFI3TGT0Nv0TwpADIAirWz3hJDpe97GKki80n5WOLGLNtqlQOvz%0AuMibzO4HSMOqFlyLU0g0vWMOUPp7r6XG30%2B2I4r0pV20ol9wGZzZO60DGdS48YOVp7Nr2eryD7YD%0Au3Eoa4Gw4sg%2Fm7rqQJDqHPDe0YDmcwGnjIUou5euad6KDGiAxCt7lK5wIwMCeF%2BNt25mcp4IVZ5n%0AK6hfBs%2FRmrjNWVkWDa9MEtIuX63HPkfjNUVn4w%2FU315gZyGMuQlyCx4i7dsCcc5y4s4ops74hBYs%0A7if78ve1Etg%3D|预订|6i0000G8220O|G822|IOQ|EAY|IZQ|EAY|10:15|19:22|09:07|Y|ShNFXb5JSybEt9c1BCFTsCmMvG3ypd4RRyyRaVN6Xv788Tye|20220927|3|Q9|03|17|1|0|||||||||||4|9|无||O0M090|OM9|0|1||O086150004M1378500099271550000|0|||||1|#0#0#0#z||',\n   'KLvqLLxHJM7N3WYh0b7m4tcTo9vlzswrDjovJVSNEmlyZFAIMROCx%2Fyl1jXncbyC1Q1%2BZqtIAv3y%0AmvBHjFsYc%2Bf72Tg1Q752cn0%2FZC5CDnXybhbYglri%2FX107%2BsuyqLl4upEjyW4t342s1N%2BwfH3j9fF%0AwQiGmWM8OLRo34%2B5T9o7ARVQgsXbHPPiyXbt8lrKNhAc3J7Tngy5cHFmcw3LReOeCBdZEtJIXs9C%0AxzZgguZtuF53R2EZz45uGCMw54k7YrzAJ2WSKhJ4Ykd9scb%2BG0VjqyOdIz%2BPzsB0W2l5lHM%3D|预订|650000Z2300C|Z230|BJQ|XNO|GBQ|XAY|10:55|09:05|22:10|N|pi7Rt4NEhVCqc88mzAoZqPC9RaMsSyc1|20220927|3|Q7|02|10|1|0|||||||||无|无|||||3010|31|0|1||30370000001021700000|0|||||1|0#0#0#0#z||',\n   'SQs8TZlL%2BGDQ2gbP006dT2oFm2JvwwIEjczHhu98UhmleV4xzmCg1kqcjFeCLI6dAd%2BOkFpa%2B8xO%0AffBVo8%2FUDF6C3UIdNrbk%2FELt33k95KeXvYge3OwE%2BnMv72QFy65c22ne%2Bl6D%2Bts%2Bz%2FnhJwRkefoj%0AX95XxoSvpJzeXnTLrBATvMxNM6CNUJXfRYKy8X0fcyeg9Age%2BW5YXDOo2s6IIpn7galb78Yq87xn%0AQBCQYeDfEo9RZX81ZG%2BGuLu7Pfpf%2FLyLtpxTbolv432SMageLHQXxJgI41Rn9SHXF47PEqGJ6VxL%0AXUagWzCOYi4%3D|预订|6c0000G83800|G838|IZQ|EAY|IZQ|EAY|11:25|20:13|08:48|Y|o7OXZ3U9%2BW9WcA1UYOizjb8fpUfVBWw%2FEZaGUnvAhJEX9KFU|20220927|3|Q7|01|13|1|0|||||||||||有|无|无||O0M090|OM9|0|1||O083850021M1341500009264250000|0|||||1|#0#0#0#z||',\n   'C0%2FYyilBN46FXxh5VZrJVkVM3ewZEJlfoPX7QePUwUBiBvSVccVscxGnLl6N3GsD5uMWF9mDRZsa%0A918gdctywaVPpX7pTMn7o%2Bo4IdjLc7EnGpSV%2BEFOsi8%2BRLesRmQkfpiWbffQGxnJ08DsEw4bxpBb%0A52CGdU%2FoZm4SsXb%2Fs9OBvP90ho0fYgBEJnB%2BgJrVb4H0cHtsgRoTMeVeBcWQBvEHnV1gxxD2ci%2FI%0AAR9a1wyebtuK%2FPkIR7Qe0DHtV%2FUBglD%2B8vmjpD0wxTu9MeHpb5VvaC8N3e%2BX6yjqqpuBo3ndfISv%0AeEimc%2FrFofE%3D|预订|6c0000G84200|G842|IZQ|LAJ|IZQ|EAY|12:23|21:16|08:53|Y|cT3Dwiw1U4WlEwaJQKc%2BYIeakyHGSc0SAkUpvx7mY9Nf7Ilq|20220927|3|Q6|01|15|1|0|||||||||||有|无|1||O0M090|OM9|1|1||O086150021M1378500009271550001|0|||||1|#0#0#0#z||',\n   'bA5%2BE95ollaNHq7pvKbrIf%2BvpCA6k9st3reZaMpYjhUW3fp0EE5JY47wU64rIMraZezBD30bnjbZ%0Am9rWN1rMWeOOeabg2aV20OIv2z8fMDgzC47PWLR25fsQu4xtvy6xKCmolkRrBvBwZRvOZgc76cGJ%0AMdHrXKDyido75LndexCsjSrtKw8K30ljSMkx43Pa51NqztomOi%2FsedcVDjs6TYJZx8ci6CBpvZGw%0AoYZjPmghIV5rGsVAO7E2Ly6CuG9tuT4K3qDXkgINdCykY4OrmEgiw43FFhS5hTL6DYqpkVZxc6bU%0ACl0cSRDhSH8%3D|预订|6i0000G83000|G830|IOQ|EAY|IZQ|EAY|13:29|22:36|09:07|Y|JCIJ%2BoUy1EHCJaaVt2e80JYwhpAtV3Fi%2FKAn8wd1k%2Bv%2B%2Fy6Y|20220927|3|Q7|03|18|1|0|||||||||||10|4|无||O0M090|OM9|1|1||O083850010M1341500049264250000|0|||||1|#1#0#0#z||',\n   'swid1R8s7SGOvIB65GtrwVcOHYUHGUGpP3n8QtRmdTJl5ZVx6uMH%2FqPtMZHMJQeD2CnpB%2Fx7wQVb%0AK5C2UE8xvuHcaARI5Z4ABrNDmVLsrypWqTa3EFoWZ7N9H4LxE%2FgvJ3ZYluJIPfmOM0VfpOxq8TJE%0AI8V23Tx0ISjw1iu9%2Bpx46i5NVwML6dnl0OG1dpF9ETNEKjddYhkDy7pwY1F%2FO%2BTd6k3r%2FVOCM%2BTs%0AUnL0z1ocGqjGJBsExAY36PByYyUUsn%2Fj9azpYByebTLLrH2HdK%2BeHqRv1u%2FTfEQY3z0UdzwJGAvF%0AhVS0lCiou9AlbtuF|预订|63000K129700|K1297|GZQ|YIJ|GZQ|XAY|16:35|20:47|28:12|Y|fiwcd5xhGF6x1fDw4cWsqw7P%2FmbznSD%2F%2BukU8YLbeTjlAjmkTBtThh9JUaU%3D|20220927|3|Q7|01|19|1|0||||5|||无||有|有|||||304010W0|3411|0|0||3038900021406940000510229000211022903000|0|||||1|#0#0#0#z||',\n   '6J%2FTPZFMplC0wFP4C9mfT8qg8onrXhjuv231eb%2Fx3GxeXc64l%2BOzS%2FoLPQseT7J8VjT29xolj93o%0AKwrQJ1TPAsT4aqqfMHx3ODH0sJZd0jOX%2FTJiPGrsOXsZV3cC0oUaPtAC5wbkw%2BrIYFQC7p6zHI0q%0Acu%2Bto4pnDi0XT309CtmADIMjcPp1LN0Vcx6Cd83Wl23pj06tNw9Uq3vK%2Fr5pMX%2BfOfbA5Tu4AiaJ%0AIwGqv8wy57leBJ8bIV6Y6WvMMcjij%2FQuBkNahWrOOGxP1UXJm07sq5OkbJvT%2F%2Fpkhz%2BfT%2FEaly7R%0A6Q2RqvqyWpapsNXU|预订|630000K22701|K227|GZQ|LZJ|GZQ|XAY|17:51|23:50|29:59|Y|mgNDssEOYbcHYpObC2vDWoOtsqGsYxyiQSE8%2F17EgtipScBumPAwNqGTqd4%3D|20220927|3|Q7|01|25|1|0||||12|||无||无|无|||||304010W0|3411|1|1||3041400000407240001210243000001024303000|0|||||1|#0#0#0#z||'],\n  'flag': '1',\n  'map': {'XAY': '西安', 'IZQ': '广州南', 'GBQ': '广州北', 'EAY': '西安北', 'GZQ': '广州'}},\n 'messages': '',\n 'status': True}"
     },
     "execution_count": 50,
     "metadata": {},
     "output_type": "execute_result"
    }
   ],
   "source": [
    "'''M2'''\n",
    "\n",
    "response.json()\n",
    "# type(response.json()) # dict"
   ],
   "metadata": {
    "collapsed": false,
    "pycharm": {
     "name": "#%%\n"
    }
   }
  },
  {
   "cell_type": "code",
   "execution_count": 51,
   "outputs": [
    {
     "data": {
      "text/plain": "{'httpstatus': 200,\n 'data': {'result': ['xsOqM3huEj9hhaVj9VSh6I%2F6VeZi8orTv0RTi%2FPOPKZrJ9aBOA7bxBovbZwFRXx3D5Qq60yFcR3C%0An9HoF5lxRJ%2BZMtzOVQyaYUHJBjlr84A2sUO%2B%2FpoWsmoibtnjG1T%2Fs1y%2BYeifOz5CocE18keDkw9y%0AMuDm5yznF2OCoUrW6cUvBDDXSI8dS4dLFUB8kDN%2BiYvBqdjZOahQSwvr0FT7YYf3eoE7OgBgiRDV%0AiJipSQNB%2F7iy%2FnCpDcIkvwCS6AJht7XNZh1%2B2Ju06%2B0klmWPBz0%2BU2U1sR1snA2JSiVQMMBUGwSy%0AkUgSv%2BjgiN14X5wS|预订|630000Z13500|Z135|GZQ|WAR|GZQ|XAY|06:55|07:42|24:47|Y|TmB4Z7%2Fa41jfJcss5cHpNkmgS14v1%2FEmz7eImplUs9c19SRTQhMJq4p2kuQ%3D|20220927|3|Q6|01|14|1|0||||无|||无||11|无|||||304010W0|3411|0|1||3041400011407240000010243000001024303000|0|||||1|#0#0#0#z||',\n   'nC%2FGPyk1XkSgIqnXasXLAJ0csVWvOVydC91tpG%2FPIibnLP2g405g7zE7VYbcUzA7hG6J8s5jh3YX%0AH0AIWftVXPMFiiCKiwt5oTfDkMygqvTl4gAj1JJwTnuatiEfFOOx741l%2Bsvh6Iegv61Uj5lwWiQb%0ACdANDTR%2F8PHVb4qikRHf5Gi3NrmICRj5dRfSU8gv5cV9WBRtULPfNVH5tW3fEUmJkszRBV7VVgch%0ATtLmiLmRagaDaz2OhQz48DgzPMDnJ0IE1AJrS5mEFfcJP6hV6BOiKuxSZZV6ty8ZYVRtZ9VQPesZ%0A9GS3wVFgkxY%3D|预订|6c0000G83400|G834|IZQ|EAY|IZQ|EAY|07:03|16:07|09:04|Y|32sKTmjDuzhMfw66oigk4YV7nsVbIMJ%2ByzZQjKqYfIGoejIZ|20220927|3|Q9|01|15|1|0|||||||||||有|有|8||O0M090|OM9|1|0||O078950021M1262500219256850008|0|||||1|#0#0#0#z||',\n   'RUY4DTvfNUWsuqJYDtcabIL0pqWUUrzg3qLrGWG1aJIh9q6OuUpT6w7ZnA%2ByyKcgmaA8oF9ocrtv%0Aok4vCHi%2F8Vp9BWkqVWkWySDs2LDvzSQXZ9iEgQaO3vscbHkSVW7QdowhXpiKZbRNItV%2Fs%2FI54h7n%0AhQIjE2HAzhJ390lUZ7elr8iG8HLS0paGGF5r%2FEE87KotXfmEtfGimQxCdOEZcYxrp6wF7UhG2qYG%0AFz%2FOcVf5Kg6bcb94uBtwNMOBMBI3lRP%2FZGGXb1FjjAd6%2B%2Biyht%2FEbsvuOYVIsi7QEybzNgzItXF3%0ANGVQlew9%2FPo%3D|预订|6c0000G87803|G878|IZQ|YIJ|IZQ|EAY|08:42|18:05|09:23|Y|K6u14UxyKzTzzntu6PiM2b08UPED94m2JP541%2FYFb36gpBqX|20220927|3|Q7|01|17|1|0|||||||||||有|13|2||O0M090|OM9|0|0||O078950021M1262500139256850002|0|||||1|0#1#0#0#z||',\n   '1mz1Sx464%2BKEIgniaYByyB0DEPxOqOimwmCcMqecPeoi%2FPJvZ%2BnwC9xKkSew1cQ21Jh%2Ft2Z2T8Xv%0Aul9URJMLYCnneJN7KeAR57w1X4hiElA7YadTWU4G23lfVuw0kEJkxFsGj98SMGSqmdQevXXp9kXi%0A4eYQiArjsquK0wb%2BlqklBPNzVKpwy6pDaB1RwB90Fp2zVh%2BR6J4UyZw0E1EKoEYTeELHrMkU%2B0n4%0AM4vGRFYN9oD5A%2B1aRZJcP30%2FmPg6UZHX0Ss%2BU1iHEVDsuD6X5xEFF1AMQp9G6GpJpFBuO3sPp%2Fpr%0Az8OVCbJiG9c%3D|预订|6c0000G81400|G814|IZQ|LAJ|IZQ|EAY|08:55|16:15|07:20|Y|dQhIVliWPXkp9ASN1DjEzJMDNpq1kMynH6ZU%2Fh0hZlogDEqR|20220927|3|Q9|01|05|1|0|||||||||||有|有|9||O0M090|OM9|0|0||O083850021M1341500219264250009|0|||||1|#1#0#0#z||',\n   'CEeNFDpjX53BMoad%2BkqDpcGQ9T9da9hvn9aV2xbjSV%2B%2F6fyD7I7k1d61YWGcuQzCoQnC8Pop2ZjE%0AO8g2I%2B%2Bk59tAP8nODpeDiUrO0Q56xNGOZNY37ZpXt4mki7eDZVZrRr3P2NABAlSRUNMvZ5GKEvLm%0A0leu%2BxUJ8jZwoH269nq%2Fet05zRzSs9PixH4zOP7ykB5VqeZ3APDvlQnzXbs00tdBonKhMyAYcOf0%0ACiskWaZMhdBQDXXDOHQrOtnl9wi9u8xieKB0sr8H1bK27PXbXtVJ8aJ4olbgIS6ou59WeewL%2BaIO%0A%2BYRedkBhdXF4r7H0J3vcLA%3D%3D|预订|65000K13480B|K1348|SZQ|XAY|GBQ|XAY|10:15|13:22|27:07|Y|ir7DAYSgQzW8JPxO55ldEV3hA7ZyCMj12X%2FnD793E4ldTjizSi5JtOOO0R0%3D|20220927|3|Q7|02|16|1|0||||7|||无||有|有|||||103040W0|1341|0|0||1023600021303990002140693000071023603000|0|||||1|#0#0#0#z||',\n   'SmPQYjcnuTKsI3GwESkuj4sIYEFI3TGT0Nv0TwpADIAirWz3hJDpe97GKki80n5WOLGLNtqlQOvz%0AuMibzO4HSMOqFlyLU0g0vWMOUPp7r6XG30%2B2I4r0pV20ol9wGZzZO60DGdS48YOVp7Nr2eryD7YD%0Au3Eoa4Gw4sg%2Fm7rqQJDqHPDe0YDmcwGnjIUou5euad6KDGiAxCt7lK5wIwMCeF%2BNt25mcp4IVZ5n%0AK6hfBs%2FRmrjNWVkWDa9MEtIuX63HPkfjNUVn4w%2FU315gZyGMuQlyCx4i7dsCcc5y4s4ops74hBYs%0A7if78ve1Etg%3D|预订|6i0000G8220O|G822|IOQ|EAY|IZQ|EAY|10:15|19:22|09:07|Y|ShNFXb5JSybEt9c1BCFTsCmMvG3ypd4RRyyRaVN6Xv788Tye|20220927|3|Q9|03|17|1|0|||||||||||4|9|无||O0M090|OM9|0|1||O086150004M1378500099271550000|0|||||1|#0#0#0#z||',\n   'KLvqLLxHJM7N3WYh0b7m4tcTo9vlzswrDjovJVSNEmlyZFAIMROCx%2Fyl1jXncbyC1Q1%2BZqtIAv3y%0AmvBHjFsYc%2Bf72Tg1Q752cn0%2FZC5CDnXybhbYglri%2FX107%2BsuyqLl4upEjyW4t342s1N%2BwfH3j9fF%0AwQiGmWM8OLRo34%2B5T9o7ARVQgsXbHPPiyXbt8lrKNhAc3J7Tngy5cHFmcw3LReOeCBdZEtJIXs9C%0AxzZgguZtuF53R2EZz45uGCMw54k7YrzAJ2WSKhJ4Ykd9scb%2BG0VjqyOdIz%2BPzsB0W2l5lHM%3D|预订|650000Z2300C|Z230|BJQ|XNO|GBQ|XAY|10:55|09:05|22:10|N|pi7Rt4NEhVCqc88mzAoZqPC9RaMsSyc1|20220927|3|Q7|02|10|1|0|||||||||无|无|||||3010|31|0|1||30370000001021700000|0|||||1|0#0#0#0#z||',\n   'SQs8TZlL%2BGDQ2gbP006dT2oFm2JvwwIEjczHhu98UhmleV4xzmCg1kqcjFeCLI6dAd%2BOkFpa%2B8xO%0AffBVo8%2FUDF6C3UIdNrbk%2FELt33k95KeXvYge3OwE%2BnMv72QFy65c22ne%2Bl6D%2Bts%2Bz%2FnhJwRkefoj%0AX95XxoSvpJzeXnTLrBATvMxNM6CNUJXfRYKy8X0fcyeg9Age%2BW5YXDOo2s6IIpn7galb78Yq87xn%0AQBCQYeDfEo9RZX81ZG%2BGuLu7Pfpf%2FLyLtpxTbolv432SMageLHQXxJgI41Rn9SHXF47PEqGJ6VxL%0AXUagWzCOYi4%3D|预订|6c0000G83800|G838|IZQ|EAY|IZQ|EAY|11:25|20:13|08:48|Y|o7OXZ3U9%2BW9WcA1UYOizjb8fpUfVBWw%2FEZaGUnvAhJEX9KFU|20220927|3|Q7|01|13|1|0|||||||||||有|无|无||O0M090|OM9|0|1||O083850021M1341500009264250000|0|||||1|#0#0#0#z||',\n   'C0%2FYyilBN46FXxh5VZrJVkVM3ewZEJlfoPX7QePUwUBiBvSVccVscxGnLl6N3GsD5uMWF9mDRZsa%0A918gdctywaVPpX7pTMn7o%2Bo4IdjLc7EnGpSV%2BEFOsi8%2BRLesRmQkfpiWbffQGxnJ08DsEw4bxpBb%0A52CGdU%2FoZm4SsXb%2Fs9OBvP90ho0fYgBEJnB%2BgJrVb4H0cHtsgRoTMeVeBcWQBvEHnV1gxxD2ci%2FI%0AAR9a1wyebtuK%2FPkIR7Qe0DHtV%2FUBglD%2B8vmjpD0wxTu9MeHpb5VvaC8N3e%2BX6yjqqpuBo3ndfISv%0AeEimc%2FrFofE%3D|预订|6c0000G84200|G842|IZQ|LAJ|IZQ|EAY|12:23|21:16|08:53|Y|cT3Dwiw1U4WlEwaJQKc%2BYIeakyHGSc0SAkUpvx7mY9Nf7Ilq|20220927|3|Q6|01|15|1|0|||||||||||有|无|1||O0M090|OM9|1|1||O086150021M1378500009271550001|0|||||1|#0#0#0#z||',\n   'bA5%2BE95ollaNHq7pvKbrIf%2BvpCA6k9st3reZaMpYjhUW3fp0EE5JY47wU64rIMraZezBD30bnjbZ%0Am9rWN1rMWeOOeabg2aV20OIv2z8fMDgzC47PWLR25fsQu4xtvy6xKCmolkRrBvBwZRvOZgc76cGJ%0AMdHrXKDyido75LndexCsjSrtKw8K30ljSMkx43Pa51NqztomOi%2FsedcVDjs6TYJZx8ci6CBpvZGw%0AoYZjPmghIV5rGsVAO7E2Ly6CuG9tuT4K3qDXkgINdCykY4OrmEgiw43FFhS5hTL6DYqpkVZxc6bU%0ACl0cSRDhSH8%3D|预订|6i0000G83000|G830|IOQ|EAY|IZQ|EAY|13:29|22:36|09:07|Y|JCIJ%2BoUy1EHCJaaVt2e80JYwhpAtV3Fi%2FKAn8wd1k%2Bv%2B%2Fy6Y|20220927|3|Q7|03|18|1|0|||||||||||10|4|无||O0M090|OM9|1|1||O083850010M1341500049264250000|0|||||1|#1#0#0#z||',\n   'swid1R8s7SGOvIB65GtrwVcOHYUHGUGpP3n8QtRmdTJl5ZVx6uMH%2FqPtMZHMJQeD2CnpB%2Fx7wQVb%0AK5C2UE8xvuHcaARI5Z4ABrNDmVLsrypWqTa3EFoWZ7N9H4LxE%2FgvJ3ZYluJIPfmOM0VfpOxq8TJE%0AI8V23Tx0ISjw1iu9%2Bpx46i5NVwML6dnl0OG1dpF9ETNEKjddYhkDy7pwY1F%2FO%2BTd6k3r%2FVOCM%2BTs%0AUnL0z1ocGqjGJBsExAY36PByYyUUsn%2Fj9azpYByebTLLrH2HdK%2BeHqRv1u%2FTfEQY3z0UdzwJGAvF%0AhVS0lCiou9AlbtuF|预订|63000K129700|K1297|GZQ|YIJ|GZQ|XAY|16:35|20:47|28:12|Y|fiwcd5xhGF6x1fDw4cWsqw7P%2FmbznSD%2F%2BukU8YLbeTjlAjmkTBtThh9JUaU%3D|20220927|3|Q7|01|19|1|0||||5|||无||有|有|||||304010W0|3411|0|0||3038900021406940000510229000211022903000|0|||||1|#0#0#0#z||',\n   '6J%2FTPZFMplC0wFP4C9mfT8qg8onrXhjuv231eb%2Fx3GxeXc64l%2BOzS%2FoLPQseT7J8VjT29xolj93o%0AKwrQJ1TPAsT4aqqfMHx3ODH0sJZd0jOX%2FTJiPGrsOXsZV3cC0oUaPtAC5wbkw%2BrIYFQC7p6zHI0q%0Acu%2Bto4pnDi0XT309CtmADIMjcPp1LN0Vcx6Cd83Wl23pj06tNw9Uq3vK%2Fr5pMX%2BfOfbA5Tu4AiaJ%0AIwGqv8wy57leBJ8bIV6Y6WvMMcjij%2FQuBkNahWrOOGxP1UXJm07sq5OkbJvT%2F%2Fpkhz%2BfT%2FEaly7R%0A6Q2RqvqyWpapsNXU|预订|630000K22701|K227|GZQ|LZJ|GZQ|XAY|17:51|23:50|29:59|Y|mgNDssEOYbcHYpObC2vDWoOtsqGsYxyiQSE8%2F17EgtipScBumPAwNqGTqd4%3D|20220927|3|Q7|01|25|1|0||||12|||无||无|无|||||304010W0|3411|1|1||3041400000407240001210243000001024303000|0|||||1|#0#0#0#z||'],\n  'flag': '1',\n  'map': {'XAY': '西安', 'IZQ': '广州南', 'GBQ': '广州北', 'EAY': '西安北', 'GZQ': '广州'}},\n 'messages': '',\n 'status': True}"
     },
     "execution_count": 51,
     "metadata": {},
     "output_type": "execute_result"
    }
   ],
   "source": [
    "''' M2等效 '''\n",
    "data = json.loads(response.text)\n",
    "data\n",
    "# type(data) # dict"
   ],
   "metadata": {
    "collapsed": false,
    "pycharm": {
     "name": "#%%\n"
    }
   }
  },
  {
   "cell_type": "code",
   "execution_count": null,
   "outputs": [],
   "source": [
    "''' 内容解析 '''"
   ],
   "metadata": {
    "collapsed": false,
    "pycharm": {
     "name": "#%%\n"
    }
   }
  },
  {
   "cell_type": "code",
   "execution_count": 56,
   "outputs": [
    {
     "name": "stdout",
     "output_type": "stream",
     "text": [
      "{'车次': 'Z135', '发车时间': '06:55', '到达时间': '07:42', '车程': '24:47', '特等': '', '一等': '', '二等': '', '软卧': '无', '硬卧': '11', '硬座': '无', '无座': '无'}\n",
      "{'车次': 'G834', '发车时间': '07:03', '到达时间': '16:07', '车程': '09:04', '特等': '8', '一等': '有', '二等': '有', '软卧': '', '硬卧': '', '硬座': '', '无座': ''}\n",
      "{'车次': 'G878', '发车时间': '08:42', '到达时间': '18:05', '车程': '09:23', '特等': '2', '一等': '13', '二等': '有', '软卧': '', '硬卧': '', '硬座': '', '无座': ''}\n",
      "{'车次': 'G814', '发车时间': '08:55', '到达时间': '16:15', '车程': '07:20', '特等': '9', '一等': '有', '二等': '有', '软卧': '', '硬卧': '', '硬座': '', '无座': ''}\n",
      "{'车次': 'K1348', '发车时间': '10:15', '到达时间': '13:22', '车程': '27:07', '特等': '', '一等': '', '二等': '', '软卧': '7', '硬卧': '有', '硬座': '有', '无座': '无'}\n",
      "{'车次': 'G822', '发车时间': '10:15', '到达时间': '19:22', '车程': '09:07', '特等': '无', '一等': '9', '二等': '4', '软卧': '', '硬卧': '', '硬座': '', '无座': ''}\n",
      "{'车次': 'Z230', '发车时间': '10:55', '到达时间': '09:05', '车程': '22:10', '特等': '', '一等': '', '二等': '', '软卧': '', '硬卧': '无', '硬座': '无', '无座': ''}\n",
      "{'车次': 'G838', '发车时间': '11:25', '到达时间': '20:13', '车程': '08:48', '特等': '无', '一等': '无', '二等': '有', '软卧': '', '硬卧': '', '硬座': '', '无座': ''}\n",
      "{'车次': 'G842', '发车时间': '12:23', '到达时间': '21:16', '车程': '08:53', '特等': '1', '一等': '无', '二等': '有', '软卧': '', '硬卧': '', '硬座': '', '无座': ''}\n",
      "{'车次': 'G830', '发车时间': '13:29', '到达时间': '22:36', '车程': '09:07', '特等': '无', '一等': '4', '二等': '10', '软卧': '', '硬卧': '', '硬座': '', '无座': ''}\n",
      "{'车次': 'K1297', '发车时间': '16:35', '到达时间': '20:47', '车程': '28:12', '特等': '', '一等': '', '二等': '', '软卧': '5', '硬卧': '有', '硬座': '有', '无座': '无'}\n",
      "{'车次': 'K227', '发车时间': '17:51', '到达时间': '23:50', '车程': '29:59', '特等': '', '一等': '', '二等': '', '软卧': '12', '硬卧': '无', '硬座': '无', '无座': '无'}\n"
     ]
    }
   ],
   "source": [
    "'''pretty table'''\n",
    "tb = pt.PrettyTable()\n",
    "tb.field_names = [\n",
    "    '车次',\n",
    "    '发车时间',\n",
    "    '到达时间',\n",
    "    '车程',\n",
    "    '特等',\n",
    "    '一等',\n",
    "    '二等',\n",
    "    '软卧',\n",
    "    '硬卧',\n",
    "    '硬座',\n",
    "    '无座'\n",
    "]\n",
    "\n",
    "'''解析'''\n",
    "for ele in response.json()['data']['result']:\n",
    "    info = ele.split('|')\n",
    "    # print([*enumerate(ele.split('|'))])\n",
    "    t_num = info[3]\n",
    "\n",
    "    start_time = info[8]\n",
    "    end_time = info[9]\n",
    "    used_time = info[10]\n",
    "\n",
    "    topGrade = info[32]\n",
    "    first_class = info[31]\n",
    "    second_class = info[30]\n",
    "\n",
    "    soft_sleeper = info[23]\n",
    "    hard_sleeper = info[28]\n",
    "\n",
    "    # soft_seat = info[]\n",
    "    hard_seat = info[29]\n",
    "    no_seat = info[26]\n",
    "\n",
    "    dic = {'车次': t_num,\n",
    "           '发车时间': start_time, '到达时间': end_time, '车程': used_time,\n",
    "           '特等': topGrade, '一等': first_class, '二等': second_class,\n",
    "           '软卧': soft_sleeper, '硬卧': hard_sleeper,\n",
    "           '硬座': hard_seat, '无座': no_seat\n",
    "           }  #'软座': soft_seat,\n",
    "    print(dic)\n",
    "\n",
    "    tb.add_row([\n",
    "        t_num,\n",
    "        start_time, end_time, used_time,\n",
    "        topGrade, first_class, second_class,\n",
    "        soft_sleeper, hard_sleeper,\n",
    "        hard_seat, no_seat\n",
    "    ])"
   ],
   "metadata": {
    "collapsed": false,
    "pycharm": {
     "name": "#%%\n"
    }
   }
  },
  {
   "cell_type": "code",
   "execution_count": 57,
   "outputs": [
    {
     "data": {
      "text/plain": "+-------+----------+----------+-------+------+------+------+------+------+------+------+\n|  车次 | 发车时间 | 到达时间 |  车程 | 特等 | 一等 | 二等 | 软卧 | 硬卧 | 硬座 | 无座 |\n+-------+----------+----------+-------+------+------+------+------+------+------+------+\n|  Z135 |  06:55   |  07:42   | 24:47 |      |      |      |  无  |  11  |  无  |  无  |\n|  G834 |  07:03   |  16:07   | 09:04 |  8   |  有  |  有  |      |      |      |      |\n|  G878 |  08:42   |  18:05   | 09:23 |  2   |  13  |  有  |      |      |      |      |\n|  G814 |  08:55   |  16:15   | 07:20 |  9   |  有  |  有  |      |      |      |      |\n| K1348 |  10:15   |  13:22   | 27:07 |      |      |      |  7   |  有  |  有  |  无  |\n|  G822 |  10:15   |  19:22   | 09:07 |  无  |  9   |  4   |      |      |      |      |\n|  Z230 |  10:55   |  09:05   | 22:10 |      |      |      |      |  无  |  无  |      |\n|  G838 |  11:25   |  20:13   | 08:48 |  无  |  无  |  有  |      |      |      |      |\n|  G842 |  12:23   |  21:16   | 08:53 |  1   |  无  |  有  |      |      |      |      |\n|  G830 |  13:29   |  22:36   | 09:07 |  无  |  4   |  10  |      |      |      |      |\n| K1297 |  16:35   |  20:47   | 28:12 |      |      |      |  5   |  有  |  有  |  无  |\n|  K227 |  17:51   |  23:50   | 29:59 |      |      |      |  12  |  无  |  无  |  无  |\n+-------+----------+----------+-------+------+------+------+------+------+------+------+",
      "text/html": "<table>\n    <thead>\n        <tr>\n            <th>车次</th>\n            <th>发车时间</th>\n            <th>到达时间</th>\n            <th>车程</th>\n            <th>特等</th>\n            <th>一等</th>\n            <th>二等</th>\n            <th>软卧</th>\n            <th>硬卧</th>\n            <th>硬座</th>\n            <th>无座</th>\n        </tr>\n    </thead>\n    <tbody>\n        <tr>\n            <td>Z135</td>\n            <td>06:55</td>\n            <td>07:42</td>\n            <td>24:47</td>\n            <td></td>\n            <td></td>\n            <td></td>\n            <td>无</td>\n            <td>11</td>\n            <td>无</td>\n            <td>无</td>\n        </tr>\n        <tr>\n            <td>G834</td>\n            <td>07:03</td>\n            <td>16:07</td>\n            <td>09:04</td>\n            <td>8</td>\n            <td>有</td>\n            <td>有</td>\n            <td></td>\n            <td></td>\n            <td></td>\n            <td></td>\n        </tr>\n        <tr>\n            <td>G878</td>\n            <td>08:42</td>\n            <td>18:05</td>\n            <td>09:23</td>\n            <td>2</td>\n            <td>13</td>\n            <td>有</td>\n            <td></td>\n            <td></td>\n            <td></td>\n            <td></td>\n        </tr>\n        <tr>\n            <td>G814</td>\n            <td>08:55</td>\n            <td>16:15</td>\n            <td>07:20</td>\n            <td>9</td>\n            <td>有</td>\n            <td>有</td>\n            <td></td>\n            <td></td>\n            <td></td>\n            <td></td>\n        </tr>\n        <tr>\n            <td>K1348</td>\n            <td>10:15</td>\n            <td>13:22</td>\n            <td>27:07</td>\n            <td></td>\n            <td></td>\n            <td></td>\n            <td>7</td>\n            <td>有</td>\n            <td>有</td>\n            <td>无</td>\n        </tr>\n        <tr>\n            <td>G822</td>\n            <td>10:15</td>\n            <td>19:22</td>\n            <td>09:07</td>\n            <td>无</td>\n            <td>9</td>\n            <td>4</td>\n            <td></td>\n            <td></td>\n            <td></td>\n            <td></td>\n        </tr>\n        <tr>\n            <td>Z230</td>\n            <td>10:55</td>\n            <td>09:05</td>\n            <td>22:10</td>\n            <td></td>\n            <td></td>\n            <td></td>\n            <td></td>\n            <td>无</td>\n            <td>无</td>\n            <td></td>\n        </tr>\n        <tr>\n            <td>G838</td>\n            <td>11:25</td>\n            <td>20:13</td>\n            <td>08:48</td>\n            <td>无</td>\n            <td>无</td>\n            <td>有</td>\n            <td></td>\n            <td></td>\n            <td></td>\n            <td></td>\n        </tr>\n        <tr>\n            <td>G842</td>\n            <td>12:23</td>\n            <td>21:16</td>\n            <td>08:53</td>\n            <td>1</td>\n            <td>无</td>\n            <td>有</td>\n            <td></td>\n            <td></td>\n            <td></td>\n            <td></td>\n        </tr>\n        <tr>\n            <td>G830</td>\n            <td>13:29</td>\n            <td>22:36</td>\n            <td>09:07</td>\n            <td>无</td>\n            <td>4</td>\n            <td>10</td>\n            <td></td>\n            <td></td>\n            <td></td>\n            <td></td>\n        </tr>\n        <tr>\n            <td>K1297</td>\n            <td>16:35</td>\n            <td>20:47</td>\n            <td>28:12</td>\n            <td></td>\n            <td></td>\n            <td></td>\n            <td>5</td>\n            <td>有</td>\n            <td>有</td>\n            <td>无</td>\n        </tr>\n        <tr>\n            <td>K227</td>\n            <td>17:51</td>\n            <td>23:50</td>\n            <td>29:59</td>\n            <td></td>\n            <td></td>\n            <td></td>\n            <td>12</td>\n            <td>无</td>\n            <td>无</td>\n            <td>无</td>\n        </tr>\n    </tbody>\n</table>"
     },
     "execution_count": 57,
     "metadata": {},
     "output_type": "execute_result"
    }
   ],
   "source": [
    "tb"
   ],
   "metadata": {
    "collapsed": false,
    "pycharm": {
     "name": "#%%\n"
    }
   }
  },
  {
   "cell_type": "code",
   "execution_count": null,
   "outputs": [],
   "source": [],
   "metadata": {
    "collapsed": false,
    "pycharm": {
     "name": "#%%\n"
    }
   }
  },
  {
   "cell_type": "markdown",
   "source": [
    "登录，验证，抢票\n",
    "\n",
    "- ctrl + F -- 搜索想要的信息，快速定位Link"
   ],
   "metadata": {
    "collapsed": false
   }
  },
  {
   "cell_type": "code",
   "execution_count": null,
   "outputs": [],
   "source": [],
   "metadata": {
    "collapsed": false,
    "pycharm": {
     "name": "#%%\n"
    }
   }
  },
  {
   "cell_type": "code",
   "execution_count": 22,
   "outputs": [
    {
     "data": {
      "text/plain": "<Element html at 0x20316bb0580>"
     },
     "execution_count": 22,
     "metadata": {},
     "output_type": "execute_result"
    }
   ],
   "source": [
    "htmls = etree.HTML(response.text)\n",
    "htmls"
   ],
   "metadata": {
    "collapsed": false,
    "pycharm": {
     "name": "#%%\n"
    }
   }
  },
  {
   "cell_type": "code",
   "execution_count": null,
   "outputs": [],
   "source": [],
   "metadata": {
    "collapsed": false,
    "pycharm": {
     "name": "#%%\n"
    }
   }
  },
  {
   "cell_type": "code",
   "execution_count": null,
   "outputs": [],
   "source": [],
   "metadata": {
    "collapsed": false,
    "pycharm": {
     "name": "#%%\n"
    }
   }
  },
  {
   "cell_type": "code",
   "execution_count": null,
   "outputs": [],
   "source": [
    "'''M2'''\n",
    "bs = BeautifulSoup(response.text, 'lxml')\n",
    "print(bs)"
   ],
   "metadata": {
    "collapsed": false,
    "pycharm": {
     "name": "#%%\n"
    }
   }
  }
 ],
 "metadata": {
  "kernelspec": {
   "display_name": "Python 3",
   "language": "python",
   "name": "python3"
  },
  "language_info": {
   "codemirror_mode": {
    "name": "ipython",
    "version": 2
   },
   "file_extension": ".py",
   "mimetype": "text/x-python",
   "name": "python",
   "nbconvert_exporter": "python",
   "pygments_lexer": "ipython2",
   "version": "2.7.6"
  }
 },
 "nbformat": 4,
 "nbformat_minor": 0
}